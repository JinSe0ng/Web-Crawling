{
 "cells": [
  {
   "cell_type": "markdown",
   "metadata": {},
   "source": [
    "# 1. Requests & Response 실습 "
   ]
  },
  {
   "cell_type": "markdown",
   "metadata": {},
   "source": [
    "## 1.1 Response만 print해보기"
   ]
  },
  {
   "cell_type": "code",
   "execution_count": 1,
   "metadata": {},
   "outputs": [
    {
     "name": "stdout",
     "output_type": "stream",
     "text": [
      "<Response [200]>\n"
     ]
    }
   ],
   "source": [
    "import requests\n",
    "\n",
    "response = requests.get('https://crawlingstudy-dd3c9.web.app/01/')\n",
    "\n",
    "print(response)"
   ]
  },
  {
   "cell_type": "markdown",
   "metadata": {},
   "source": [
    "## 1.2 HTML을 text로 출력 해보기 "
   ]
  },
  {
   "cell_type": "code",
   "execution_count": 4,
   "metadata": {},
   "outputs": [
    {
     "name": "stdout",
     "output_type": "stream",
     "text": [
      "<!DOCTYPE html>\n",
      "<html>\n",
      "<head>\n",
      "<title>크롤링 연습사이트 01</title>\n",
      "</head>\n",
      "<body>\n",
      "<h1>저의 첫 웹사이트 오신것을 환영합니다.</h1>\n",
      "<h1 title=\"welcome\">인사이트캠퍼스.</h1>\n",
      "<h2>이곳은 크롤링 연습을 위한 웹사이트입니다.</h2>\n",
      "<table border=\"1\">\n",
      "    <thead>\n",
      "      <tr>\n",
      "      \t<th class=\"tablehead\">이름</th>\n",
      "        <th class=\"tablehead\">나이</th>\n",
      "      </tr>\n",
      "    </thead>\n",
      "    <tbody>\n",
      "      <tr>\n",
      "          <td>이몽룡</td>\n",
      "          <td>34</td>\n",
      "      </tr>\n",
      "      <tr>\n",
      "          <td>홍길동</td>\n",
      "          <td>23</td>\n",
      "      </tr>\n",
      "     </tbody>\n",
      "</table>\n",
      "<p id=\"hello\">\n",
      "    이탈리아 요리의 시작은 기원전 4세기로 거슬러 올라갈 수 있다. 대항해시대를 거치면서 아메리카 대륙에서 감자·토마토·후추·옥수수 등이 유입되어 그 종류와 풍미가 다양해졌고 현대에 이르러서는 피자와 파스타 등 많은 이탈리아 요리가 널리 퍼지게 되었다.\n",
      "</p>\n",
      "<p id=\"cook\">\n",
      "    전통적인 요리법이나 양식은 상당한 차이가 있지만, 이탈리아 요리는 다른 국가의 요리 문화에서 다양한 영감을 줄 만큼 다양하고 혁신적인 것으로 평가되고 있다. 각 지방마다 고유의 특색이 있어 그 양식도 다양하지만 크게 북부와 남부로 나눌 수 있다. 다른 나라와 국경을 맞대고 있던 북부 지방은 산업화되어 경제적으로 풍족하고 농업이 발달해 쌀이 풍부해 유제품이 다양한 반면 경제적으로 침체되었던 남부 지방은 올리브와 토마토, 모차렐라 치즈가 유명하고 특별히 해산물을 활용한 요리가 많다. 식재료와 치즈 등의 차이는 파스타의 종류와 소스와 수프 등도 다름을 의미한다.\n",
      "</p>\n",
      "<a href=\"01.html\">1페이지 바로가기</a>\n",
      "<a href=\"02.html\">2페이지 바로가기</a>\n",
      "<a href=\"03.html\">3페이지 바로가기</a>\n",
      "<a href=\"04.html\">4페이지 바로가기</a>\n",
      "</body>\n",
      "</html>\n",
      "\n"
     ]
    }
   ],
   "source": [
    "import requests\n",
    "\n",
    "response = requests.get('https://crawlingstudy-dd3c9.web.app/01/')\n",
    "\n",
    "print(response.text)"
   ]
  },
  {
   "cell_type": "markdown",
   "metadata": {},
   "source": [
    "# 2. 실습 "
   ]
  },
  {
   "cell_type": "code",
   "execution_count": 3,
   "metadata": {},
   "outputs": [
    {
     "name": "stdout",
     "output_type": "stream",
     "text": [
      "<!DOCTYPE html>\n",
      "<html lang=\"ko\">\n",
      "<head>\n",
      "  <meta charset=\"utf-8\" />\n",
      "  <meta name=\"viewport\" content=\"width=device-width,initial-scale=1,maximum-scale=1,minimum-scale=1,user-scalable=no\">\n",
      "\n",
      "  <meta property=\"og:title\" content=\"에이텍 - 네이버페이 증권\" />\n",
      "  <meta property=\"og:type\" content=\"article\" />\n",
      "  <meta property=\"og:url\" content=\"https://m.stock.naver.com/domestic/stock/045660/total\" />\n",
      "  <meta property=\"og:description\" content=\"관심종목의 실시간 주가를 가장 빠르게 확인하는 곳\"/>\n",
      "  <meta property=\"og:image\" content=\"https://ssl.pstatic.net/static/m/stock/im/2016/08/og_stock-200.png\"/>\n",
      "  <meta property=\"og:article:author\" content=\"네이버페이증권\"/>\n",
      "  <meta property=\"og:article:author:url\" content=\"https://m.stock.naver.com\"/>\n",
      "  <meta property=\"og:article:thumbnailUrl\" content=\"https://ssl.pstatic.net/static/m/stock/im/2016/08/og_stock-200.png\"/>\n",
      "\n",
      "  <title>네이버페이 증권</title>\n",
      "  <link rel=\"shortcut icon\" href=\"https://ssl.pstatic.net/imgstock/favi/favicon.ico\">\n",
      "  <meta name=\"apple-mobile-web-app-title\" content=\"네이버페이 증권\" />\n",
      "  <link rel=\"apple-touch-icon-precomposed\" href=\"https://ssl.pstatic.net/imgstock/favi/favicon-96x96.png\"/>\n",
      "  <link rel=\"apple-touch-icon-precomposed\" sizes=\"180x180\" href=\"https://ssl.pstatic.net/imgstock/favi/favicon-180x180.png\"/>\n",
      "  <link rel=\"apple-touch-icon-precomposed\" sizes=\"192x192\" href=\"https://ssl.pstatic.net/imgstock/favi/favicon-192x192.png\"/>\n",
      "  <link rel=\"icon\" type=\"image/png\" sizes=\"16x16\" href=\"https://ssl.pstatic.net/imgstock/favi/favicon-16x16.png\"/>\n",
      "  <link rel=\"icon\" type=\"image/png\" sizes=\"32x32\" href=\"https://ssl.pstatic.net/imgstock/favi/favicon-32x32.png\"/>\n",
      "  <link rel=\"icon\" type=\"image/png\" sizes=\"96x96\" href=\"https://ssl.pstatic.net/imgstock/favi/favicon-96x96.png\"/>\n",
      "  <link rel=\"icon\" type=\"image/png\" sizes=\"192x192\" href=\"https://ssl.pstatic.net/imgstock/favi/favicon-192x192.png\"/>\n",
      "\n",
      "  <link href=\"https://ssl.pstatic.net/imgstock/stock/build/prod/mobile/20241205164901/static/css/main.403f191d.css\" rel=\"stylesheet\">\n",
      "  <script type=\"text/javascript\" src=\"https://ssl.pstatic.net/tveta/libs/glad/prod/gfp-core.js\"></script>\n",
      "<script defer src=\"https://ssl.pstatic.net/imgstock/stock/build/prod/mobile/20241205164901/static/js/main.46af3060.js\"></script>\n",
      "</head>\n",
      "<body class=\"international\">\n",
      " <div id=\"root\"></div>\n",
      "</body>\n",
      "</html>\n",
      "\n"
     ]
    }
   ],
   "source": [
    "import requests\n",
    "\n",
    "response = requests.get('https://m.stock.naver.com/domestic/stock/045660/total')\n",
    "\n",
    "print(response.text)"
   ]
  },
  {
   "cell_type": "markdown",
   "metadata": {},
   "source": [
    "# 3. 여러 페이지 HTML 갖고 오기 "
   ]
  },
  {
   "cell_type": "markdown",
   "metadata": {},
   "source": [
    "### 3.1 컬리"
   ]
  },
  {
   "cell_type": "code",
   "execution_count": null,
   "metadata": {},
   "outputs": [
    {
     "data": {
      "text/plain": [
       "<zip at 0x1144cbc00>"
      ]
     },
     "execution_count": 13,
     "metadata": {},
     "output_type": "execute_result"
    }
   ],
   "source": []
  },
  {
   "cell_type": "markdown",
   "metadata": {},
   "source": [
    "### 3.2 네이버 쇼핑 "
   ]
  },
  {
   "cell_type": "code",
   "execution_count": null,
   "metadata": {},
   "outputs": [
    {
     "ename": "TypeError",
     "evalue": "str.join() takes exactly one argument (0 given)",
     "output_type": "error",
     "traceback": [
      "\u001b[0;31m---------------------------------------------------------------------------\u001b[0m",
      "\u001b[0;31mTypeError\u001b[0m                                 Traceback (most recent call last)",
      "Cell \u001b[0;32mIn[67], line 6\u001b[0m\n\u001b[1;32m      4\u001b[0m a\u001b[38;5;241m=\u001b[39m\u001b[38;5;241m23\u001b[39m\n\u001b[1;32m      5\u001b[0m b\u001b[38;5;241m=\u001b[39m\u001b[38;5;241m56\u001b[39m\n\u001b[0;32m----> 6\u001b[0m \u001b[43msolution\u001b[49m\u001b[43m(\u001b[49m\u001b[43ma\u001b[49m\u001b[43m,\u001b[49m\u001b[43mb\u001b[49m\u001b[43m)\u001b[49m\n",
      "Cell \u001b[0;32mIn[67], line 2\u001b[0m, in \u001b[0;36msolution\u001b[0;34m(a, b)\u001b[0m\n\u001b[1;32m      1\u001b[0m \u001b[38;5;28;01mdef\u001b[39;00m \u001b[38;5;21msolution\u001b[39m(a, b):\n\u001b[0;32m----> 2\u001b[0m     answer \u001b[38;5;241m=\u001b[39m \u001b[38;5;124;43m'\u001b[39;49m\u001b[38;5;124;43m'\u001b[39;49m\u001b[38;5;241;43m.\u001b[39;49m\u001b[43mjoin\u001b[49m\u001b[43m(\u001b[49m\u001b[43m)\u001b[49m\n\u001b[1;32m      3\u001b[0m     \u001b[38;5;28;01mreturn\u001b[39;00m answer\n",
      "\u001b[0;31mTypeError\u001b[0m: str.join() takes exactly one argument (0 given)"
     ]
    }
   ],
   "source": []
  },
  {
   "cell_type": "markdown",
   "metadata": {},
   "source": [
    "### 3.3 옥션"
   ]
  },
  {
   "cell_type": "code",
   "execution_count": null,
   "metadata": {},
   "outputs": [
    {
     "ename": "TypeError",
     "evalue": "int() argument must be a string, a bytes-like object or a real number, not 'list'",
     "output_type": "error",
     "traceback": [
      "\u001b[0;31m---------------------------------------------------------------------------\u001b[0m",
      "\u001b[0;31mTypeError\u001b[0m                                 Traceback (most recent call last)",
      "Cell \u001b[0;32mIn[61], line 2\u001b[0m\n\u001b[1;32m      1\u001b[0m arr\n\u001b[0;32m----> 2\u001b[0m \u001b[38;5;28;43mint\u001b[39;49m\u001b[43m(\u001b[49m\u001b[43marr\u001b[49m\u001b[43m)\u001b[49m\u001b[38;5;241m.\u001b[39mreplace(\u001b[38;5;124m'\u001b[39m\u001b[38;5;124m\"\u001b[39m\u001b[38;5;124m,\u001b[39m\u001b[38;5;124m\"\u001b[39m\u001b[38;5;124m'\u001b[39m,\u001b[38;5;124m'\u001b[39m\u001b[38;5;124m \u001b[39m\u001b[38;5;124m'\u001b[39m)\n",
      "\u001b[0;31mTypeError\u001b[0m: int() argument must be a string, a bytes-like object or a real number, not 'list'"
     ]
    }
   ],
   "source": []
  }
 ],
 "metadata": {
  "kernelspec": {
   "display_name": "sesac",
   "language": "python",
   "name": "python3"
  },
  "language_info": {
   "codemirror_mode": {
    "name": "ipython",
    "version": 3
   },
   "file_extension": ".py",
   "mimetype": "text/x-python",
   "name": "python",
   "nbconvert_exporter": "python",
   "pygments_lexer": "ipython3",
   "version": "3.10.15"
  }
 },
 "nbformat": 4,
 "nbformat_minor": 2
}
