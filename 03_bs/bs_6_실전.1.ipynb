{
 "cells": [
  {
   "cell_type": "code",
   "execution_count": 4,
   "metadata": {},
   "outputs": [
    {
     "name": "stdout",
     "output_type": "stream",
     "text": [
      "30\n",
      "[{'순위': ' 소방관 8만명 ', '제목': '소방관', '관객 수': '8만명'}, {'순위': ' 모아나 2 2.5만명 ', '제목': '모아나 2', '관객 수': '2.5만명'}, {'순위': ' 위키드 1.7만명 ', '제목': '위키드', '관객 수': '1.7만명'}, {'순위': ' 대가족 1.7만명 ', '제목': '대가족', '관객 수': '1.7만명'}, {'순위': ' 1승 7,652명 ', '제목': '1승', '관객 수': '7,652명'}, {'순위': ' 서브스턴스 6,318명 ', '제목': '서브스턴스', '관객 수': '6,318명'}, {'순위': ' 퍼스트레이디 5,138명 ', '제목': '퍼스트레이디', '관객 수': '5,138명'}, {'순위': ' 히든페이스 4,990명 ', '제목': '히든페이스', '관객 수': '4,990명'}, {'순위': ' 인터스텔라 4,248명 ', '제목': '인터스텔라', '관객 수': '4,248명'}, {'순위': ' 극장판 주술회전 0 2,192명 ', '제목': '극장판 주술회전 0', '관객 수': '2,192명'}, {'순위': ' 이처럼 사소한 것들 1,381명 ', '제목': '이처럼 사소한 것들', '관객 수': '1,381명'}, {'순위': ' 원정빌라 974명 ', '제목': '원정빌라', '관객 수': '974명'}, {'순위': ' 덩케르크 842명 ', '제목': '덩케르크', '관객 수': '842명'}, {'순위': ' 아키라 758명 ', '제목': '아키라', '관객 수': '758명'}, {'순위': ' 더 크로우 704명 ', '제목': '더 크로우', '관객 수': '704명'}, {'순위': ' 캐롤 650명 ', '제목': '캐롤', '관객 수': '650명'}, {'순위': ' 글래디에이터 Ⅱ 636명 ', '제목': '글래디에이터 Ⅱ', '관객 수': '636명'}, {'순위': ' 매트릭스 587명 ', '제목': '매트릭스', '관객 수': '587명'}, {'순위': ' 크리스마스에 기적을 만날 확률 552명 ', '제목': '크리스마스에 기적을 만날 확률', '관객 수': '552명'}, {'순위': ' 듄: 파트2 509명 ', '제목': '듄: 파트2', '관객 수': '509명'}, {'순위': ' 엔시티 드림 미스터리 랩: ... 472명 ', '제목': '엔시티 드림 미스터리 랩: ...', '관객 수': '472명'}, {'순위': ' 엠호텔 395명 ', '제목': '엠호텔', '관객 수': '395명'}, {'순위': ' 듄 348명 ', '제목': '듄', '관객 수': '348명'}, {'순위': ' 공각기동대 322명 ', '제목': '공각기동대', '관객 수': '322명'}, {'순위': ' 포레스트 검프 301명 ', '제목': '포레스트 검프', '관객 수': '301명'}, {'순위': ' 폴라로이드 작동법 287명 ', '제목': '폴라로이드 작동법', '관객 수': '287명'}, {'순위': ' 시빌 워: 분열의 시대 268명 ', '제목': '시빌 워: 분열의 시대', '관객 수': '268명'}, {'순위': ' 나의 히어로 아카데미아 더 ... 264명 ', '제목': '나의 히어로 아카데미아 더 ...', '관객 수': '264명'}, {'순위': ' 플레이브 팬 콘서트 ‘헬로,... 251명 ', '제목': '플레이브 팬 콘서트 ‘헬로,...', '관객 수': '251명'}, {'순위': ' 면접교섭 200명 ', '제목': '면접교섭', '관객 수': '200명'}]\n"
     ]
    }
   ],
   "source": [
    "import requests\n",
    "from bs4 import BeautifulSoup\n",
    "\n",
    "URL = 'https://search.naver.com/search.naver?sm=tab_sug.top&where=nexearch&ssc=tab.nx.all&query=%EC%98%81%ED%99%94%EC%88%9C%EC%9C%84&oquery=%EC%98%81%ED%99%94&tqi=iFZ%2BNdqo1aVssu%2B4ZOhssssstzV-222396&acq=%EC%98%81%ED%99%94&acr=2&qdt=0'\n",
    "\n",
    "response = requests.get(URL)\n",
    "soup = BeautifulSoup(response.text, 'html.parser')\n",
    "\n",
    "movie = []\n",
    "        \n",
    "for item in soup.select('#main_pack ._panel_popular._tab_content ul._panel li'):\n",
    "\n",
    "    movie.append({\n",
    "        '순위' : item.select_one('.cs_common_module .list_image_info .title_box').text,\n",
    "        '제목' : item.select_one('.title_box strong.name').text,\n",
    "        '관객 수' : item.select_one('.title_box span.sub_text').text\n",
    "    })\n",
    "\n",
    "print(len(movie))\n",
    "print(movie)"
   ]
  },
  {
   "cell_type": "code",
   "execution_count": 5,
   "metadata": {},
   "outputs": [
    {
     "ename": "SyntaxError",
     "evalue": "invalid syntax. Perhaps you forgot a comma? (3917705168.py, line 13)",
     "output_type": "error",
     "traceback": [
      "\u001b[0;36m  Cell \u001b[0;32mIn[5], line 13\u001b[0;36m\u001b[0m\n\u001b[0;31m    '순위' : li.select_one('table.type_2 td.no').text\u001b[0m\n\u001b[0m           ^\u001b[0m\n\u001b[0;31mSyntaxError\u001b[0m\u001b[0;31m:\u001b[0m invalid syntax. Perhaps you forgot a comma?\n"
     ]
    }
   ],
   "source": [
    "import requests\n",
    "from bs4 import BeautifulSoup\n",
    "\n",
    "URL = 'https://finance.naver.com/sise/sise_quant.nhn'\n",
    "\n",
    "response = requests.get(URL)\n",
    "soup = BeautifulSoup(response.text, 'html.parser')\n",
    "\n",
    "stock = []\n",
    "for li in soup.select('.box_type_l'):\n",
    "\n",
    "    stock.append({\n",
    "        '순위' : li.select_one('table.type_2 td.no').text\n",
    "        '종목명' : li.select_one('table.type_2 td a.tltle').text\n",
    "        '가격' : li.select_one('table.type_2 td.number').text\n",
    "    })\n",
    "\n",
    "print(stock)"
   ]
  },
  {
   "cell_type": "code",
   "execution_count": null,
   "metadata": {},
   "outputs": [
    {
     "name": "stdout",
     "output_type": "stream",
     "text": [
      "349\n"
     ]
    }
   ],
   "source": [
    "import requests\n",
    "from bs4 import BeautifulSoup\n",
    "\n",
    "URL = 'https://finance.naver.com/sise/sise_quant.nhn'\n",
    "\n",
    "response = requests.get(URL)\n",
    "soup = BeautifulSoup(response.text, 'html.parser')\n",
    "\n",
    "for tr in soup.select('.box_type_l .type_2'):\n",
    "    print(len(tr))\n",
    "    rank =  tr.select_one('table.type_2 td.no').text\n",
    "    name = tr.select_one('table.type_2 td a.tltle').text\n",
    "    price = tr.select_one('table.type_2 td.number').text\n",
    "\n",
    "print(rank, name, price)"
   ]
  },
  {
   "cell_type": "code",
   "execution_count": 18,
   "metadata": {},
   "outputs": [
    {
     "name": "stdout",
     "output_type": "stream",
     "text": [
      "1 KODEX 200선물인버스2X 2,500\n",
      "2 대원전선 3,280\n",
      "3 SG글로벌 3,700\n",
      "4 오리엔트바이오 1,172\n",
      "5 KODEX 코스닥150선물인버스 4,095\n",
      "6 KODEX 코스닥150레버리지 6,930\n",
      "7 코오롱모빌리티그룹 2,645\n",
      "8 한국ANKOR유전 342\n",
      "9 삼성전자 54,500\n",
      "10 일신석재 2,515\n",
      "11 삼부토건 994\n",
      "12 삼성 인버스 2X WTI원유 선물 ETN 95\n",
      "13 TIGER 2차전지TOP10 8,800\n",
      "14 KODEX 레버리지 14,435\n",
      "15 KODEX 인버스 4,710\n",
      "16 KODEX 2차전지산업레버리지 1,357\n",
      "17 일성건설 3,310\n",
      "18 이스타코 1,572\n",
      "19 이수페타시스 26,500\n",
      "20 한화생명 2,445\n",
      "21 형지엘리트 2,030\n",
      "22 명문제약 1,918\n",
      "23 KODEX 코스닥150 11,480\n",
      "24 대상홀딩스 10,390\n",
      "25 한국패러랠 170\n",
      "26 ACE 포스코그룹포커스 4,385\n",
      "27 대원전선우 4,335\n",
      "28 동양생명 4,630\n",
      "29 KODEX AI전력핵심설비 9,490\n",
      "30 한화투자증권 3,965\n",
      "31 삼성 인버스 2X 코스닥150 선물 ETN 7,515\n",
      "32 두산에너빌리티 17,570\n",
      "33 인디에프 1,033\n",
      "34 TIGER 2차전지소재Fn 4,250\n",
      "35 에이프로젠 851\n",
      "36 범양건영 3,395\n",
      "37 ACE 테슬라밸류체인액티브 20,390\n",
      "38 온타이드 451\n",
      "39 KOSEF 미국양자컴퓨팅 10,315\n",
      "40 삼일제약 14,300\n",
      "41 우리금융지주 15,170\n",
      "42 써니전자 2,385\n",
      "43 KODEX 200 32,630\n",
      "44 금양 25,700\n",
      "45 TIGER 2차전지TOP10레버리지 1,512\n",
      "46 TIGER 미국S&P500 21,720\n",
      "47 태양금속 2,485\n",
      "48 SK하이닉스 183,800\n",
      "49 신한 인버스 2X WTI원유 선물 ETN(H) 77\n",
      "50 한화시스템 20,550\n",
      "51 삼성중공업 11,060\n",
      "52 TIGER 200선물인버스2X 2,650\n",
      "53 동원금속 1,369\n",
      "54 대창 1,354\n",
      "55 신원 1,434\n",
      "56 ACE 미국30년국채액티브(H) 8,095\n",
      "57 KODEX 2차전지산업 12,865\n",
      "58 한화오션 32,450\n",
      "59 BNK금융지주 10,710\n",
      "60 TIGER 화장품 2,695\n",
      "61 KODEX 미국서학개미 19,760\n",
      "62 그린케미칼 5,550\n",
      "63 TIGER 미국30년국채커버드콜액티브(H) 8,770\n",
      "64 대한전선 11,810\n",
      "65 CJ씨푸드 3,225\n",
      "66 TIGER 미국테크TOP10 INDXX 25,705\n",
      "67 삼성전자우 45,000\n",
      "68 TIGER 미국필라델피아AI반도체나스닥 11,115\n",
      "69 HJ중공업 4,220\n",
      "70 동양철관 722\n",
      "71 보해양조 507\n",
      "72 유한양행 112,800\n",
      "73 TIGER 미국배당다우존스 12,875\n",
      "74 카카오 42,800\n",
      "75 TIGER 엔비디아미국채커버드콜밸런스(합성) 9,970\n",
      "76 한국앤컴퍼니 20,300\n",
      "77 LG유플러스 10,930\n",
      "78 동방 2,280\n",
      "79 한국가스공사 34,600\n",
      "80 DGB금융지주 8,390\n",
      "81 KB금융 84,000\n",
      "82 롯데지주 24,350\n",
      "83 TIGER 차이나전기차SOLACTIVE 9,360\n",
      "84 신한지주 48,600\n",
      "85 KODEX 미국S&P500TR 19,925\n",
      "86 TIGER 미국필라델피아반도체나스닥 19,865\n",
      "87 TIGER 미국배당다우존스타겟커버드콜2호 10,895\n",
      "88 파미셀 7,680\n",
      "89 TYM 4,900\n",
      "90 한화리츠 3,545\n",
      "91 체시스 1,148\n",
      "92 SOL 조선TOP3플러스 14,130\n",
      "93 하나금융지주 57,600\n",
      "94 기업은행 14,300\n",
      "95 한미반도체 86,700\n",
      "96 KODEX 2차전지핵심소재10 4,365\n",
      "97 일진전기 27,650\n",
      "98 참엔지니어링 345\n",
      "99 코오롱 15,070\n",
      "100 케이카 14,490\n"
     ]
    }
   ],
   "source": [
    "tr_list = soup.select('table.type_2 tr')\n",
    "for tag in tr_list:\n",
    "    #print(len(tag.select('td')))\n",
    "    if len(tag.select('td')) != 12:\n",
    "        continue\n",
    "\n",
    "    #print(len(tag.select('td')))\n",
    "    rank = tag.select('td')[0].text.strip()\n",
    "    name = tag.select('td')[1].text.strip()\n",
    "    price = tag.select('td')[2].text.strip()\n",
    "\n",
    "    print(rank, name, price)"
   ]
  },
  {
   "cell_type": "code",
   "execution_count": 21,
   "metadata": {},
   "outputs": [
    {
     "name": "stdout",
     "output_type": "stream",
     "text": [
      "1 KODEX 200선물인버스2X 2,495 55\n",
      "2 대원전선 3,275 65\n",
      "3 SG글로벌 3,700 435\n",
      "4 오리엔트바이오 1,164 4\n",
      "5 KODEX 코스닥150선물인버스 4,095 45\n",
      "7 한국ANKOR유전 339 13\n",
      "8 코오롱모빌리티그룹 2,675 150\n",
      "11 삼부토건 993 26\n",
      "15 KODEX 인버스 4,710 55\n",
      "19 이수페타시스 26,750 1,800\n",
      "21 형지엘리트 2,015 61\n",
      "23 명문제약 1,917 36\n",
      "24 한국패러랠 173 12\n",
      "25 대상홀딩스 10,370 360\n",
      "27 대원전선우 4,205 385\n",
      "29 KODEX AI전력핵심설비 9,515 100\n",
      "34 삼성 인버스 2X 코스닥150 선물 ETN 7,505 155\n",
      "36 ACE 테슬라밸류체인액티브 20,390 1,005\n",
      "38 온타이드 448 39\n",
      "40 삼일제약 14,270 1,350\n",
      "41 KOSEF 미국양자컴퓨팅 10,320 320\n",
      "46 SK하이닉스 183,600 4,300\n",
      "47 TIGER 미국S&P500 21,735 105\n",
      "48 태양금속 2,480 55\n",
      "49 신한 인버스 2X WTI원유 선물 ETN(H) 78 1\n",
      "53 TIGER 200선물인버스2X 2,640 55\n",
      "60 그린케미칼 5,700 705\n",
      "62 KODEX 미국서학개미 19,775 710\n",
      "63 TIGER 미국테크TOP10 INDXX 25,720 505\n",
      "66 CJ씨푸드 3,240 145\n",
      "67 동양철관 721 38\n",
      "68 TIGER 미국필라델피아AI반도체나스닥 11,110 200\n",
      "70 HJ중공업 4,220 315\n",
      "71 보해양조 508 7\n",
      "76 한국앤컴퍼니 20,200 2,640\n",
      "78 동방 2,285 55\n",
      "79 한국가스공사 34,650 800\n",
      "82 롯데지주 24,350 2,450\n",
      "84 TIGER 차이나전기차SOLACTIVE 9,345 115\n",
      "86 TIGER 미국필라델피아반도체나스닥 19,880 385\n",
      "87 KODEX 미국S&P500TR 19,935 100\n",
      "89 파미셀 7,690 150\n",
      "90 한화리츠 3,525 10\n",
      "92 체시스 1,147 20\n",
      "96 한미반도체 86,800 3,000\n",
      "97 일진전기 27,600 1,150\n",
      "98 참엔지니어링 346 13\n",
      "100 케이카 14,520 1,120\n"
     ]
    },
    {
     "data": {
      "text/plain": [
       "48"
      ]
     },
     "execution_count": 21,
     "metadata": {},
     "output_type": "execute_result"
    }
   ],
   "source": [
    "import requests\n",
    "from bs4 import BeautifulSoup\n",
    "\n",
    "URL = 'https://finance.naver.com/sise/sise_quant.nhn'\n",
    "\n",
    "response = requests.get(URL)\n",
    "soup = BeautifulSoup(response.text, 'html.parser')\n",
    "\n",
    "tr_list = soup.select('table.type_2 tr')\n",
    "\n",
    "result = []\n",
    "\n",
    "for tr in tr_list:\n",
    "    if len(tr.select('td')) != 12:\n",
    "        continue\n",
    "    if tr.select('td')[3].select('span')[0].text.strip() != '상승':\n",
    "        continue\n",
    "    \n",
    "    rank = tr.select('td')[0].text.strip()\n",
    "    name = tr.select('td')[1].text.strip()\n",
    "    price = tr.select('td')[2].text.strip()\n",
    "    up_down = tr.select('td')[3].select('span')[1].text.strip()\n",
    "\n",
    "    print(rank,name,price,up_down)\n",
    "\n",
    "    result.append([rank,name,price,up_down])\n",
    "len(result)"
   ]
  },
  {
   "cell_type": "code",
   "execution_count": null,
   "metadata": {},
   "outputs": [
    {
     "name": "stdout",
     "output_type": "stream",
     "text": [
      "[]\n"
     ]
    }
   ],
   "source": [
    "import requests\n",
    "from bs4 import BeautifulSoup\n",
    "\n",
    "URL = 'http://www.goso.co.kr/bbs/board.php?bo_table=testDB'\n",
    "response = requests.get(URL)\n",
    "soup = BeautifulSoup(response.text, 'html.parser')\n",
    "\n",
    "complaint = []\n",
    "        \n",
    "for item in soup.select('.fboardlist .board_list'):\n",
    "\n",
    "    complaint.append({\n",
    "        '분류' : item.select_one('.cate').text,\n",
    "    })\n",
    "\n",
    "print(complaint)"
   ]
  },
  {
   "cell_type": "code",
   "execution_count": 6,
   "metadata": {},
   "outputs": [
    {
     "data": {
      "text/plain": [
       "'<!-- <!DOCTYPE HTML PUBLIC \"-//W3C//DTD HTML 4.01 Transitional//EN\"> -->\\n<html>\\n<head>\\n<meta http-equiv=\"content-type\" content=\"text/html; charset=utf-8\">\\n<meta name=\"description\" content=\"금융소비자 보호, 은행, 보험, 카드, 증권, 대부업 피해, 소비자가만드는신문\"/>\\n<meta name=\"naver-site-verification\" content=\"2668f1ab4ce0a7d7e01b3bb72d97999c1f51ba01\" />\\n<meta name=\"naver-site-verification\" content=\"ee68dd4cd6b1843828935e5122b139ba65942fc9\" />\\n<title>소비자고발센터 > 소비자 상담 게시판 2 페이지</title>\\n<link rel=\"stylesheet\" href=\"../style.css\" type=\"text/css\">\\n</head>\\n<script type=\"text/javascript\">\\n// 자바스크립트에서 사용하는 전역변수 선언\\nvar g4_path      = \"..\";\\nvar g4_bbs       = \"bbs\";\\nvar g4_bbs_img   = \"img\";\\nvar g4_url       = \"http://www.goso.co.kr\";\\nvar g4_is_member = \"\";\\nvar g4_is_admin  = \"\";\\nvar g4_bo_table  = \"testDB\";\\nvar g4_sca       = \"\";\\nvar g4_charset   = \"utf-8\";\\nvar g4_cookie_domain = \".goso.co.kr\";\\nvar g4_is_gecko  = navigator.userAgent.toLowerCase().indexOf(\"gecko\") != -1;\\nvar g4_is_ie     = navigator.userAgent.toLowerCase().indexOf(\"msie\") != -1;\\n</script>\\n<script type=\"text/javascript\" src=\"../js/jquery-1.4.2.min.js\"></script>\\n<script type=\"text/javascript\" src=\"../js/common.js\"></script>\\n<body topmargin=\"0\" leftmargin=\"0\" >\\n<a name=\"g4_head\"></a>\\n<div id=\"layer-popups\" style=\"margin:auto;width:970px;\"><!-- 창크기 공유 dummy --></div><script language=\"javascript\" src=\"../gobal/inc/embed.js\"></script>\\n<script language=\"JavaScript\" type=\"text/JavaScript\">\\n<!--\\nfunction MM_reloadPage(init) {  //reloads the window if Nav4 resized\\n  if (init==true) with (navigator) {if ((appName==\"Netscape\")&&(parseInt(appVersion)==4)) {\\n    document.MM_pgW=innerWidth; document.MM_pgH=innerHeight; onresize=MM_reloadPage; }}\\n  else if (innerWidth!=document.MM_pgW || innerHeight!=document.MM_pgH) location.reload();\\n}\\nMM_reloadPage(true);\\n//-->\\n</script>\\n\\n<!-- 리스트페이지 좌측 날개배너 기능 추가 / 김지영 / 1042182 / 20210330 -S -->\\n<script>\\njQuery(window).scroll(function() {\\n\\n    var floatBannerLeft = jQuery(\"#floating_banner_left\");\\n    var HeadHeight = 0;\\n    \\n    var scrollTop = jQuery(window).scrollTop();\\n\\n    var flBnLcrollLimit = 900;\\n    floatBannerLeft.stop();\\n\\n    if(scrollTop < HeadHeight){\\n\\t\\tfloatBannerLeft.animate({top: \"0px\"}, 100, \"linear\");\\n\\t}else if(scrollTop >= flBnLcrollLimit){\\n\\t\\tfloatBannerLeft.animate({top:flBnLcrollLimit + \"px\"}, 100, \"linear\");\\n\\t}else if(scrollTop >= HeadHeight){ \\n\\t\\tfloatBannerLeft.animate({top:(scrollTop) - HeadHeight + \"px\"}, 100, \"linear\");\\n\\t}\\n\\n});\\n</script>\\n<!-- 리스트페이지 좌측 날개배너 기능 추가 / 김지영 / 1042182 / 20210330 -E -->\\n\\n<table width=\"1070\" border=\"0\" align=\"center\" cellpadding=\"0\" cellspacing=\"0\">\\n  <tr> \\n    <td height=\"35\" valign=\"top\">\\n    \\t<!--\\n\\t\\t<div id=\"Layer1\" style=\"position:absolute; width:970px; height:22px; z-index:4; visibility: visible;\">   <a href=\"/\"><img src=\"http://im.consumernews.co.kr/logo/logo.png\" height=\"30\" style=\"margin:3px 0 0 10px\" /></a>\\t</div> \\n\\t\\t-->\\n\\n      \\t<div id=\"Layer3\" style=\"position:absolute; width:1070px; height:28px; z-index:3; visibility: visible;\"> \\n        <!--상단로그인-->\\n        <table width=\"970\" border=\"0\" align=\"right\" cellpadding=\"0\" cellspacing=\"0\">\\n  <tr> \\n    <td align=\"right\">\\n            \\t<img src=\"/gobal/images/tlog1-1.png\" border=\"0\" usemap=\"#log01\">\\n    \\t\\n    \\t<!--    \\t<img src=\"/gobal/images/tlog1.gif\" border=\"0\" usemap=\"#log01\">\\n    \\t-->\\n    </td>\\n  </tr>\\n</table>\\n<map name=\"log01\" id=\"log01\">\\n  <area shape=\"rect\" coords=\"117,-1,165,37\" href=\"/\" onFocus=\"blur()\">\\n  <area shape=\"rect\" coords=\"170,2,212,56\" href=\"/bbs/login.php\" onFocus=\"blur()\">\\n  <area shape=\"rect\" coords=\"218,2,290,89\" href=\"/bbs/register.php\" onFocus=\"blur()\">\\n</map>\\n<map name=\"log02\" id=\"log02\">\\n  <area shape=\"rect\" coords=\"115,2,155,51\" href=\"/\" onFocus=\"blur()\">\\n  <area shape=\"rect\" coords=\"163,4,212,75\" href=\" /bbs/logout.php\" onFocus=\"blur()\">\\n  <area shape=\"rect\" coords=\"223,3,292,45\" href=\"/bbs/member_confirm.php?url=register_form.php\" onFocus=\"blur()\">\\n</map>\\n\\n<!--<map name=\"log01\" id=\"log01\">\\n  <area shape=\"rect\" coords=\"14,9,60,31\" href=\"/\" onFocus=\"blur()\">\\n  <area shape=\"rect\" coords=\"66,9,107,32\" href=\"/bbs/login.php\" onFocus=\"blur()\">\\n  <area shape=\"rect\" coords=\"114,7,160,32\" href=\"/bbs/register.php\" onFocus=\"blur()\">\\n  <!-- <area shape=\"rect\" coords=\"168,9,260,32\" href=\"javascript:bookmark();\" onFocus=\"blur()\"> --\\n</map>\\n<map name=\"log02\" id=\"log02\">\\n  <area shape=\"rect\" coords=\"8,10,52,32\" href=\"/\" onFocus=\"blur()\">\\n  <area shape=\"rect\" coords=\"55,10,107,32\" href=\" /bbs/logout.php\" onFocus=\"blur()\">\\n  <area shape=\"rect\" coords=\"114,10,164,31\" href=\"/bbs/member_confirm.php?url=register_form.php\" onFocus=\"blur()\">\\n  <!-- <area shape=\"rect\" coords=\"164,8,256,33\" href=\"javascript:bookmark();\" onFocus=\"blur()\"> --\\n</map>-->\\n<script language=\"javascript\">\\n<!--\\nfunction bookmark(){\\nwindow.external.AddFavorite(\\'http://www.gobal.or.kr\\', \\'한국소비자고발센터\\')\\n}\\n//-->\\n</script>        <!--상단로그인 끝-->\\n      </div></td>\\n  </tr>\\n  <tr>\\n  \\t<td align=\"center\" height=\"113\"><a href=\"/\"><img src=\"/gobal/news/images/main_bi.jpg\"></a></td>\\n  </tr>\\n  <tr>\\n    <td height=\"63\" valign=\"top\">\\n    \\t<style type=\"text/css\">\\nimg{border:0;}\\n</style>\\n<table width=\"970\" cellpadding=\"0\" cellspacing=\"0\" border=\"0\" align=\"center\">\\n<tr>\\n    <td><a href=\"../bbs/board.php?bo_table=testDB\" target=\"_self\"><img src=\"../gobal/images/images/Tmenu_001.jpg\" alt=\"소비자 상담\"/><!--<img src=\"../gobal/images/images/Tmenu_01.jpg\" alt=\"소비자 상담\"/>--></a></td>\\n    <!--<td><a href=\"../solve/solve.html\" target=\"_self\"><img src=\"../gobal/images/images/Tmenu_02.jpg\" alt=\"소비자피해해결률\"/></a></td>-->\\n\\t<td><a href=\"../bbs/board.php?bo_table=co_media\" target=\"_self\"><img src=\"../gobal/images/images/Tmenu_002.jpg\" alt=\"이미지영상제보\"/><!--<img src=\"../gobal/images/images/Tmenu_02_1.gif\" alt=\"이미지영상제보\"/>--></a></td>\\n\\t<td><!-- <a href=\"http://www.goso.co.kr/sobija/main.html\" target=\"_self\"><img src=\"../gobal/images/images/Tmenu_003.jpg\" alt=\"소비자데잍터\"/></a> -->\\n\\t<a href=\"http://www.goso.co.kr/tip/main.html\" target=\"_self\"><img src=\"../gobal/images/images/Tmenu_003-1.jpg\" alt=\"슬기로운고발\"/></a></td>\\n    <!--<td><a href=\"../bbs/board.php?bo_table=data\" target=\"_self\"><img src=\"../gobal/images/images/Tmenu_03.jpg\" alt=\"자료실\"/></a></td>\\n    <td><a href=\"../csnews/main.html?page=\" target=\"_self\"><img src=\"../gobal/images/images/Tmenu_04.jpg\" alt=\"피해예방뉴스\"/></a></td>-->\\n</tr>\\n<tr>\\n    <td colspan=\"7\" height=\"29px;\">&nbsp;</td>\\n</tr>\\n</table>\\n\\n<!--\\n\\t\\t<script language=\"JavaScript\">    \\t\\t\\n        ShowFlash(\\'/gobal/images/swf/menu.swf?PageNum=1\\', 970, 63)\\n\\t\\t</script>\\n-->\\n    </td>\\n  </tr>\\n</table>\\n\\n<table width=\"1070\" border=\"0\" align=\"center\" cellpadding=\"0\" cellspacing=\"0\">\\n\\n\\n  <tr valign=\"top\"> \\n  \\t<!-- 좌측 날개배너 영역 / 김지영 / 1042182 / 20210330 -S -->\\n\\t<td width=\"1\"><div style=\"width: 0px;\"><a href=\"/tip/main.html\"><img src=\"http://www.goso.co.kr/img/b-tip.jpg\" id=\"floating_banner_left\" style=\"float:left;position:relative;right: 170px;\"></a></div></td>\\n\\t<!--<td width=\"160\"><a href=\"../gobal/images/gobal_tip.hwp\"><img src=\"http://www.goso.co.kr/img/b-tip.jpg\" id=\"floating_banner_left\" style=\"position:relative;\"></a></td>-->\\n\\t<!-- 좌측 날개배너 영역 / 김지영 / 1042182 / 20210330 -E -->\\n\\t\\t\\n    <td width=\"890\" align=\"center\"><table width=\"970px\" border=\"0\" cellspacing=\"0\" cellpadding=\"0\">\\n        <tr> \\n          <td><script type=\"text/javascript\" src=\"../js/sideview.js\"></script>\\n\\n<style>\\n.board_top { clear:both; }\\n\\n.board_list { clear:both; width:100%; table-layout:fixed; margin:5px 0 0 0; }\\n.board_list th { font-weight:bold; font-size:12px; }\\n.board_list th { background:url(../skin/board/basic/img/title_bg.gif) repeat-x; }\\n.board_list th { white-space:nowrap; height:34px; overflow:hidden; text-align:center; }\\n.board_list th { border-top:1px solid #ddd; border-bottom:1px solid #ddd; }\\n\\n.board_list tr.bg0 { background-color:#fafafa; }\\n.board_list tr.bg1 { background-color:#ffffff; }\\n\\n.board_list td { padding:.5em; }\\n.board_list td { border-bottom:1px solid #ddd; }\\n.board_list td.num { color:#999999; text-align:center; }\\n.board_list td.checkbox { text-align:center; }\\n.board_list td.subject { overflow:hidden; }\\n.board_list td.name { padding:0 0 0 10px; }\\n.board_list td.datetime { font:normal 11px tahoma; color:#BABABA; text-align:center; }\\n.board_list td.hit { font:normal 11px tahoma; color:#BABABA; text-align:center; }\\n.board_list td.good { font:normal 11px tahoma; color:#BABABA; text-align:center; }\\n.board_list td.nogood { font:normal 11px tahoma; color:#BABABA; text-align:center; }\\n\\n.board_list .notice { font-weight:normal; }\\n.board_list .current { font:bold 11px tahoma; color:#E15916; }\\n.board_list .comment { font-family:Tahoma; font-size:10px; color:#EE5A00; }\\n\\n.board_button { clear:both; margin:10px 0 0 0; }\\n\\n.board_page { clear:both; text-align:center; margin:3px 0 0 0; }\\n.board_page a:link { color:#777; }\\n\\n.board_search { text-align:center; margin:10px 0 0 0; }\\n.board_search .stx { height:21px; border:1px solid #9A9A9A; border-right:1px solid #D8D8D8; border-bottom:1px solid #D8D8D8; }\\n\\n.board_list td.company{/*color:#0A7EFF;*/font-weight:bold;text-align:center}\\n.board_list td.cate{color:#999;text-align:center;}\\n\\n/* 최은비 / 1201759 / 20220928 */\\n.board_list td.cate{color:#000;}\\n</style>\\n\\n\\n\\n\\n<!-- 레이어팝업_업무지원 -->\\n<script language=\"JavaScript\">\\n\\tfunction setCookie( name, value, expiredays ) {\\n\\tvar todayDate = new Date();\\n\\ttodayDate.setDate( todayDate.getDate() + expiredays );\\n\\tdocument.cookie = name + \"=\" + escape( value ) + \"; path=/; expires=\" + todayDate.toGMTString() + \";\"\\n\\t}\\n\\n\\tfunction closeWin() {\\n\\tif ( document.notice_form.chkbox.checked ){\\n\\t\\tsetCookie( \"boardPop\", \"done\" , 1 );\\n\\t}\\n\\t\\tdocument.all[\\'divpop3\\'].style.visibility = \"hidden\";\\n\\t}\\n\\n\\tfunction layer_close(){\\n\\t\\tdocument.all[\\'divpop3\\'].style.display = \"none\";\\n\\t}\\n\\n\\t</script>\\n\\t<style type=\"text/css\">\\n\\t#divpop3 {\\n\\t\\tposition:absolute;left:440px;top:200px;width:250px;height:100px;z-index:99;\\n\\t}\\n\\t#divpop3 td {\\n\\tfont-family: Tahama, 돋움, Dotum, sans-serif;\\n\\tfont-size: 11px;\\n\\tline-height: 150%;\\n\\ttext-decoration: none;\\n\\tcolor:#ffffff;\\n\\t}\\n\\t</style>\\n\\n<!-- 레이어팝업_업무지원 -->\\n<div id=\"divpop3\">\\n<table width=\"100%\" cellpadding=\"0\" cellspacing=\"0\" border=\"0\" bgcolor=\"#ffffff\">\\n\\t<tr>\\n\\t\\t<td align=\"center\">\\n\\t\\t\\t<img src=\"/popup/20130102_banner.gif\" border=\"0\">\\n\\t\\t</td>\\n\\t</tr>\\n\\t<form name=\"notice_form\">\\n\\t<tr>\\n\\t\\t<td align=\"right\" width=\"100%\" bgcolor=\"#ffffff\" height=\"10\" valign=\"top\">\\n\\t\\t\\t<input type=\"checkbox\" name=\"chkbox\" value=\"checkbox\">\\n\\t\\t\\t<font color=\"black\">오늘 하루 이 창을 열지 않음</font> &nbsp;&nbsp;&nbsp;<a href=\"javascript:closeWin();\" style=\"color:#fff;\"><strong><font color=\"black\">[닫기]</font></strong></a>\\n\\t\\t</td>\\n\\t</tr>\\n\\t</form>\\n</table>\\n</div>\\n<script language=\"JavaScript\">\\n\\tcookiedata = document.cookie;\\n\\n\\tif ( cookiedata.indexOf(\"boardPop=done\") < 0 ){\\n\\t  var int_windowLeft = (document.body.scrollWidth /2)- (600/2);\\n\\t  var int_windowTop = 300;\\n\\n\\t  document.all[\\'divpop3\\'].style.visibility = \"visible\";\\n\\t  document.all[\\'divpop3\\'].style.left = int_windowLeft+250;\\n\\t  document.all[\\'divpop3\\'].style.top  = int_windowTop-100;\\n\\t}\\n\\telse {\\n\\t\\tdocument.all[\\'divpop3\\'].style.visibility = \"hidden\";\\n\\t}\\n\\n\\t//임시!!!!!!!!!!!!!!!!!!!(팝업제거)\\n\\tdocument.all[\\'divpop3\\'].style.visibility = \"hidden\";\\n</script>\\n\\n\\n\\n\\n\\n<!-- 게시판 목록 시작 -->\\n<table width=\"100%\" align=\"center\" cellpadding=\"0\" cellspacing=\"0\"><tr><td>\\n<!-- <table width=\"99%\" align=\"center\" cellpadding=\"0\" cellspacing=\"0\"><tr><td> -->\\n\\n    <!-- 분류 셀렉트 박스, 게시물 몇건, 관리자화면 링크 -->\\n    <div class=\"board_top\">\\n\\n        <div style=\"/*float:left;margin-bottom:15px;*/text-align:center;\">\\n\\t\\t<a href=\"../com/notice.html\"><img src=\"../skin/board/basic/img/btn_write_03.jpg\" border=\\'0\\' style=\"margin-bottom:10px;\"></a>\\t\\t\\t<!-- <a href=\"../com/notice.html\"><img src=\"../skin/board/basic/img/btn_write_01.gif\" border=\\'0\\' style=\"margin-bottom:10px;\"></a> -->\\n            <form name=\"fcategory\" method=\"get\" style=\"margin:0px;\">\\n                        </form>\\n        </div>\\n\\t\\t\\t\\t<img src=\"../skin/board/basic/img/bbs-top-img.jpg\" border=\\'0\\' style=\"margin-bottom:10px;\">\\n        <div style=\"float:right;margin-top:25px;\">\\n\\n            <!-- <img src=\"../skin/board/basic/img/icon_total.gif\" align=\"absmiddle\" border=\\'0\\'>\\n            <span style=\"color:#888888; font-weight:bold;\">Total 544,899</span> -->\\n                                </div>\\n    </div>\\n\\n    <!-- 제목 -->\\n    <form name=\"fboardlist\" method=\"post\">\\n    <input type=\\'hidden\\' name=\\'bo_table\\' value=\\'testDB\\'>\\n    <input type=\\'hidden\\' name=\\'sfl\\'  value=\\'\\'>\\n    <input type=\\'hidden\\' name=\\'stx\\'  value=\\'\\'>\\n    <input type=\\'hidden\\' name=\\'spt\\'  value=\\'\\'>\\n    <input type=\\'hidden\\' name=\\'page\\' value=\\'2\\'>\\n    <input type=\\'hidden\\' name=\\'sw\\'   value=\\'\\'>\\n\\n    <table cellspacing=\"0\" cellpadding=\"0\" class=\"board_list\">\\n    <col width=\"50\" />\\n\\n    \\t<col width=\"100\" />\\n\\t<col width=\"80\" />\\n\\t        <col />\\n\\n    <col width=\"110\" />\\n    <col width=\"40\" />\\n    <col width=\"50\" />\\n            <tr>\\n        <th>번호</th>\\n        \\t\\t<th>업체명</th>\\n\\t\\t<th>분류</th>\\n\\t\\t                <th>제&nbsp;&nbsp;&nbsp;목</th>\\n        <th>글쓴이</th>\\n        <th><a href=\\'/bbs/board.php?bo_table=testDB&sop=and&sst=wr_datetime&sod=desc&sfl=&stx=&page=2\\'>날짜</a></th>\\n        <th><!--<a href=\\'/bbs/board.php?bo_table=testDB&sop=and&sst=wr_hit&sod=desc&sfl=&stx=&page=2\\'>조회</a>-->&nbsp;</th>\\n                    </tr>\\n\\n    \\n    <tr class=\"bg1\">\\n        <td class=\"num\">\\n            <b>공지</b>        </td>\\n       \\t\\t\\t<td class=\"company\"></td>\\n        \\t<td class=\"cate\">\\n        \\t\\t        \\t\\t        \\t\\t        \\t\\t        \\t\\t        \\t\\t        \\t\\t        \\t\\t        \\t\\t        \\t\\t        \\t\\t        \\t\\t기타        \\t\\t        \\t\\t        \\t</td>\\n                        <td class=\"subject\">\\n            <a href=\\'../bbs/board.php?bo_table=testDB&wr_id=203485&page=2\\'><b>[필독] 주의사항</b></a>  <img src=\\'../skin/board/basic/img/icon_file.gif\\' align=\\'absmiddle\\'>  <img src=\\'../skin/board/basic/img/icon_hot.gif\\' align=\\'absmiddle\\'>         </td>\\n        <td class=\"name\"><span class=\\'member\\'>소비자고발센…</span></td>\\n        <td class=\"datetime\">10-29</td>\\n        <td class=\"hit\"><!--567473-->&nbsp;</td>\\n                    </tr>\\n    \\n    <tr class=\"bg0\">\\n        <td class=\"num\">\\n            1350943        </td>\\n       \\t\\t\\t<td class=\"company\">헤블리스(성원피씨엠 주식회사)</td>\\n        \\t<td class=\"cate\">\\n        \\t\\t음식        \\t\\t        \\t\\t        \\t\\t        \\t\\t        \\t\\t        \\t\\t        \\t\\t        \\t\\t        \\t\\t        \\t\\t        \\t\\t        \\t\\t        \\t\\t        \\t</td>\\n                        <td class=\"subject\">\\n            <img src=\"../skin/board/basic/img/ac_btn4.gif\" align=\"absmiddle\" border=\\'0\\'> <a href=\\'../bbs/board.php?bo_table=testDB&wr_id=1350943&page=2\\'>오류 배송으로 인한 강매 판매 신고합니다. </a> <img src=\\'../skin/board/basic/img/icon_new.gif\\' align=\\'absmiddle\\'> <img src=\\'../skin/board/basic/img/icon_file.gif\\' align=\\'absmiddle\\'>   <img src=\\'../skin/board/basic/img/icon_secret.gif\\' align=\\'absmiddle\\'>        </td>\\n        <td class=\"name\"><span class=\\'guest\\'>채혜경</span></td>\\n        <td class=\"datetime\">15:38</td>\\n        <td class=\"hit\"><!--0-->&nbsp;</td>\\n                    </tr>\\n    \\n    <tr class=\"bg1\">\\n        <td class=\"num\">\\n            1350942        </td>\\n       \\t\\t\\t<td class=\"company\">동의명가</td>\\n        \\t<td class=\"cate\">\\n        \\t\\t음식        \\t\\t        \\t\\t        \\t\\t        \\t\\t        \\t\\t        \\t\\t        \\t\\t        \\t\\t        \\t\\t        \\t\\t        \\t\\t        \\t\\t        \\t\\t        \\t</td>\\n                        <td class=\"subject\">\\n            <img src=\"../skin/board/basic/img/ac_btn4.gif\" align=\"absmiddle\" border=\\'0\\'> <a href=\\'../bbs/board.php?bo_table=testDB&wr_id=1350942&page=2\\'>강제 판매</a> <img src=\\'../skin/board/basic/img/icon_new.gif\\' align=\\'absmiddle\\'> <img src=\\'../skin/board/basic/img/icon_file.gif\\' align=\\'absmiddle\\'>           </td>\\n        <td class=\"name\"><span class=\\'guest\\'>안덕길</span></td>\\n        <td class=\"datetime\">15:38</td>\\n        <td class=\"hit\"><!--10-->&nbsp;</td>\\n                    </tr>\\n    \\n    <tr class=\"bg0\">\\n        <td class=\"num\">\\n            1350941        </td>\\n       \\t\\t\\t<td class=\"company\">바토너</td>\\n        \\t<td class=\"cate\">\\n        \\t\\t        \\t\\t        \\t\\t        \\t\\t        \\t\\t        \\t\\t        \\t\\t        \\t\\t        \\t\\t        \\t\\t        \\t\\t        \\t\\t기타        \\t\\t        \\t\\t        \\t</td>\\n                        <td class=\"subject\">\\n            <img src=\"../skin/board/basic/img/ac_btn4.gif\" align=\"absmiddle\" border=\\'0\\'> <a href=\\'../bbs/board.php?bo_table=testDB&wr_id=1350941&page=2\\'>경매 대리입찰 서비스 업체는 책임을 하나도 …</a> <img src=\\'../skin/board/basic/img/icon_new.gif\\' align=\\'absmiddle\\'> <img src=\\'../skin/board/basic/img/icon_file.gif\\' align=\\'absmiddle\\'>   <img src=\\'../skin/board/basic/img/icon_secret.gif\\' align=\\'absmiddle\\'>        </td>\\n        <td class=\"name\"><span class=\\'guest\\'>이재현</span></td>\\n        <td class=\"datetime\">15:34</td>\\n        <td class=\"hit\"><!--0-->&nbsp;</td>\\n                    </tr>\\n    \\n    <tr class=\"bg1\">\\n        <td class=\"num\">\\n            1350938        </td>\\n       \\t\\t\\t<td class=\"company\">바토너</td>\\n        \\t<td class=\"cate\">\\n        \\t\\t        \\t\\t        \\t\\t        \\t\\t        \\t\\t        \\t\\t        \\t\\t        \\t\\t        \\t\\t        \\t\\t        \\t\\t        \\t\\t기타        \\t\\t        \\t\\t        \\t</td>\\n                        <td class=\"subject\">\\n            <img src=\"../skin/board/basic/img/ac_btn4.gif\" align=\"absmiddle\" border=\\'0\\'> <a href=\\'../bbs/board.php?bo_table=testDB&wr_id=1350938&page=2\\'>경매입찰서비스 제공 업체는 책임을 안지나…</a> <img src=\\'../skin/board/basic/img/icon_new.gif\\' align=\\'absmiddle\\'> <img src=\\'../skin/board/basic/img/icon_file.gif\\' align=\\'absmiddle\\'>   <img src=\\'../skin/board/basic/img/icon_secret.gif\\' align=\\'absmiddle\\'>        </td>\\n        <td class=\"name\"><span class=\\'guest\\'>이재현</span></td>\\n        <td class=\"datetime\">15:28</td>\\n        <td class=\"hit\"><!--0-->&nbsp;</td>\\n                    </tr>\\n    \\n    <tr class=\"bg0\">\\n        <td class=\"num\">\\n            1350937        </td>\\n       \\t\\t\\t<td class=\"company\">한국복권센타</td>\\n        \\t<td class=\"cate\">\\n        \\t\\t        \\t\\t        \\t\\t        \\t\\t        \\t\\t        \\t\\t        \\t\\t        \\t\\t        \\t\\t        \\t\\t        \\t\\t        \\t\\t기타        \\t\\t        \\t\\t        \\t</td>\\n                        <td class=\"subject\">\\n            <img src=\"../skin/board/basic/img/ac_btn4.gif\" align=\"absmiddle\" border=\\'0\\'> <a href=\\'../bbs/board.php?bo_table=testDB&wr_id=1350937&page=2\\'>복권2등 사례금안주면 소송한다네요</a> <img src=\\'../skin/board/basic/img/icon_new.gif\\' align=\\'absmiddle\\'>    <img src=\\'../skin/board/basic/img/icon_secret.gif\\' align=\\'absmiddle\\'>        </td>\\n        <td class=\"name\"><span class=\\'guest\\'>이희경</span></td>\\n        <td class=\"datetime\">15:26</td>\\n        <td class=\"hit\"><!--0-->&nbsp;</td>\\n                    </tr>\\n    \\n    <tr class=\"bg1\">\\n        <td class=\"num\">\\n            1350934        </td>\\n       \\t\\t\\t<td class=\"company\">현이츄</td>\\n        \\t<td class=\"cate\">\\n        \\t\\t        \\t\\t생활용품(화장품)        \\t\\t        \\t\\t        \\t\\t        \\t\\t        \\t\\t        \\t\\t        \\t\\t        \\t\\t        \\t\\t        \\t\\t        \\t\\t        \\t\\t        \\t</td>\\n                        <td class=\"subject\">\\n            <img src=\"../skin/board/basic/img/ac_btn4.gif\" align=\"absmiddle\" border=\\'0\\'> <a href=\\'../bbs/board.php?bo_table=testDB&wr_id=1350934&page=2\\'>취소사유가 어이가없습니다.</a> <img src=\\'../skin/board/basic/img/icon_new.gif\\' align=\\'absmiddle\\'> <img src=\\'../skin/board/basic/img/icon_file.gif\\' align=\\'absmiddle\\'>   <img src=\\'../skin/board/basic/img/icon_secret.gif\\' align=\\'absmiddle\\'>        </td>\\n        <td class=\"name\"><span class=\\'guest\\'>김하정</span></td>\\n        <td class=\"datetime\">15:04</td>\\n        <td class=\"hit\"><!--0-->&nbsp;</td>\\n                    </tr>\\n    \\n    <tr class=\"bg0\">\\n        <td class=\"num\">\\n            1350933        </td>\\n       \\t\\t\\t<td class=\"company\">현리(강원)터미널</td>\\n        \\t<td class=\"cate\">\\n        \\t\\t        \\t\\t        \\t\\t        \\t\\t        \\t\\t        \\t\\t        \\t\\t        \\t\\t        \\t\\t        \\t\\t        \\t\\t        \\t\\t기타        \\t\\t        \\t\\t        \\t</td>\\n                        <td class=\"subject\">\\n            <img src=\"../skin/board/basic/img/ac_btn4.gif\" align=\"absmiddle\" border=\\'0\\'> <a href=\\'../bbs/board.php?bo_table=testDB&wr_id=1350933&page=2\\'>승차권 중복 결제 환불 거부</a> <img src=\\'../skin/board/basic/img/icon_new.gif\\' align=\\'absmiddle\\'>    <img src=\\'../skin/board/basic/img/icon_secret.gif\\' align=\\'absmiddle\\'>        </td>\\n        <td class=\"name\"><span class=\\'guest\\'>전유나</span></td>\\n        <td class=\"datetime\">15:01</td>\\n        <td class=\"hit\"><!--0-->&nbsp;</td>\\n                    </tr>\\n    \\n    <tr class=\"bg1\">\\n        <td class=\"num\">\\n            1350932        </td>\\n       \\t\\t\\t<td class=\"company\">LGU+</td>\\n        \\t<td class=\"cate\">\\n        \\t\\t        \\t\\t        \\t\\t        \\t\\t        \\t\\t통신        \\t\\t        \\t\\t        \\t\\t        \\t\\t        \\t\\t        \\t\\t        \\t\\t        \\t\\t        \\t\\t        \\t</td>\\n                        <td class=\"subject\">\\n            <img src=\"../skin/board/basic/img/ac_btn1.gif\" align=\"absmiddle\" border=\\'0\\'> <a href=\\'../bbs/board.php?bo_table=testDB&wr_id=1350932&page=2\\'>인터넷 이전설치 불가로 해지 위약금 청구</a> <img src=\\'../skin/board/basic/img/icon_new.gif\\' align=\\'absmiddle\\'>    <img src=\\'../skin/board/basic/img/icon_secret.gif\\' align=\\'absmiddle\\'>        </td>\\n        <td class=\"name\"><span class=\\'guest\\'>손형복</span></td>\\n        <td class=\"datetime\">14:53</td>\\n        <td class=\"hit\"><!--0-->&nbsp;</td>\\n                    </tr>\\n    \\n    <tr class=\"bg0\">\\n        <td class=\"num\">\\n            1350931        </td>\\n       \\t\\t\\t<td class=\"company\">도디치대전점</td>\\n        \\t<td class=\"cate\">\\n        \\t\\t        \\t\\t        \\t\\t        \\t\\t        \\t\\t        \\t\\t        \\t\\t        \\t\\t        \\t\\t        \\t\\t        \\t\\t        \\t\\t기타        \\t\\t        \\t\\t        \\t</td>\\n                        <td class=\"subject\">\\n            <img src=\"../skin/board/basic/img/ac_btn1.gif\" align=\"absmiddle\" border=\\'0\\'> <a href=\\'../bbs/board.php?bo_table=testDB&wr_id=1350931&page=2\\'>조끼 as맡긴걸 돌려주지않아요</a> <img src=\\'../skin/board/basic/img/icon_new.gif\\' align=\\'absmiddle\\'>    <img src=\\'../skin/board/basic/img/icon_secret.gif\\' align=\\'absmiddle\\'>        </td>\\n        <td class=\"name\"><span class=\\'guest\\'>김은희</span></td>\\n        <td class=\"datetime\">14:51</td>\\n        <td class=\"hit\"><!--0-->&nbsp;</td>\\n                    </tr>\\n    \\n    <tr class=\"bg1\">\\n        <td class=\"num\">\\n            1350930        </td>\\n       \\t\\t\\t<td class=\"company\">현이츄</td>\\n        \\t<td class=\"cate\">\\n        \\t\\t        \\t\\t생활용품(화장품)        \\t\\t        \\t\\t        \\t\\t        \\t\\t        \\t\\t        \\t\\t        \\t\\t        \\t\\t        \\t\\t        \\t\\t        \\t\\t        \\t\\t        \\t</td>\\n                        <td class=\"subject\">\\n            <img src=\"../skin/board/basic/img/ac_btn1.gif\" align=\"absmiddle\" border=\\'0\\'> <a href=\\'../bbs/board.php?bo_table=testDB&wr_id=1350930&page=2\\'>배송문의하다 일방적인 취소</a> <img src=\\'../skin/board/basic/img/icon_new.gif\\' align=\\'absmiddle\\'> <img src=\\'../skin/board/basic/img/icon_file.gif\\' align=\\'absmiddle\\'>   <img src=\\'../skin/board/basic/img/icon_secret.gif\\' align=\\'absmiddle\\'>        </td>\\n        <td class=\"name\"><span class=\\'guest\\'>김하정</span></td>\\n        <td class=\"datetime\">14:49</td>\\n        <td class=\"hit\"><!--0-->&nbsp;</td>\\n                    </tr>\\n    \\n    <tr class=\"bg0\">\\n        <td class=\"num\">\\n            1350928        </td>\\n       \\t\\t\\t<td class=\"company\">현이츄</td>\\n        \\t<td class=\"cate\">\\n        \\t\\t        \\t\\t생활용품(화장품)        \\t\\t        \\t\\t        \\t\\t        \\t\\t        \\t\\t        \\t\\t        \\t\\t        \\t\\t        \\t\\t        \\t\\t        \\t\\t        \\t\\t        \\t</td>\\n                        <td class=\"subject\">\\n            <img src=\"../skin/board/basic/img/ac_btn2.gif\" align=\"absmiddle\" border=\\'0\\'> <a href=\\'../bbs/board.php?bo_table=testDB&wr_id=1350928&page=2\\'>일방적인 배송 취소</a><a href=\"../bbs/board.php?bo_table=testDB&wr_id=1350928&page=2\"><span class=\\'comment\\'>(1)</span></a> <img src=\\'../skin/board/basic/img/icon_new.gif\\' align=\\'absmiddle\\'> <img src=\\'../skin/board/basic/img/icon_file.gif\\' align=\\'absmiddle\\'>   <img src=\\'../skin/board/basic/img/icon_secret.gif\\' align=\\'absmiddle\\'> <img src=\"../skin/board/basic/img/icon_replys_con.gif\" align=\"absmiddle\" border=\\'0\\'>        </td>\\n        <td class=\"name\"><span class=\\'guest\\'>김하정</span></td>\\n        <td class=\"datetime\">14:46</td>\\n        <td class=\"hit\"><!--0-->&nbsp;</td>\\n                    </tr>\\n    \\n    <tr class=\"bg1\">\\n        <td class=\"num\">\\n            1350927        </td>\\n       \\t\\t\\t<td class=\"company\">로테나</td>\\n        \\t<td class=\"cate\">\\n        \\t\\t        \\t\\t        \\t\\t        \\t\\t        \\t\\t        \\t\\t        \\t\\t        \\t\\t가전        \\t\\t        \\t\\t        \\t\\t        \\t\\t        \\t\\t        \\t\\t        \\t</td>\\n                        <td class=\"subject\">\\n            <img src=\"../skin/board/basic/img/ac_btn1.gif\" align=\"absmiddle\" border=\\'0\\'> <a href=\\'../bbs/board.php?bo_table=testDB&wr_id=1350927&page=2\\'>화재위험 가습기 환불요청, 세척하라며 영상…</a> <img src=\\'../skin/board/basic/img/icon_new.gif\\' align=\\'absmiddle\\'>    <img src=\\'../skin/board/basic/img/icon_secret.gif\\' align=\\'absmiddle\\'>        </td>\\n        <td class=\"name\"><span class=\\'guest\\'>이서경</span></td>\\n        <td class=\"datetime\">14:45</td>\\n        <td class=\"hit\"><!--0-->&nbsp;</td>\\n                    </tr>\\n    \\n    <tr class=\"bg0\">\\n        <td class=\"num\">\\n            1350926        </td>\\n       \\t\\t\\t<td class=\"company\">현이츄</td>\\n        \\t<td class=\"cate\">\\n        \\t\\t        \\t\\t생활용품(화장품)        \\t\\t        \\t\\t        \\t\\t        \\t\\t        \\t\\t        \\t\\t        \\t\\t        \\t\\t        \\t\\t        \\t\\t        \\t\\t        \\t\\t        \\t</td>\\n                        <td class=\"subject\">\\n            <img src=\"../skin/board/basic/img/ac_btn1.gif\" align=\"absmiddle\" border=\\'0\\'> <a href=\\'../bbs/board.php?bo_table=testDB&wr_id=1350926&page=2\\'>일방적인 배송 취소</a> <img src=\\'../skin/board/basic/img/icon_new.gif\\' align=\\'absmiddle\\'> <img src=\\'../skin/board/basic/img/icon_file.gif\\' align=\\'absmiddle\\'>           </td>\\n        <td class=\"name\"><span class=\\'guest\\'>김하정</span></td>\\n        <td class=\"datetime\">14:45</td>\\n        <td class=\"hit\"><!--3-->&nbsp;</td>\\n                    </tr>\\n    \\n    <tr class=\"bg1\">\\n        <td class=\"num\">\\n            1350924        </td>\\n       \\t\\t\\t<td class=\"company\">홈앤쇼핑</td>\\n        \\t<td class=\"cate\">\\n        \\t\\t        \\t\\t        \\t\\t        \\t\\t유통(쇼핑몰)        \\t\\t        \\t\\t        \\t\\t        \\t\\t        \\t\\t        \\t\\t        \\t\\t        \\t\\t        \\t\\t        \\t\\t        \\t</td>\\n                        <td class=\"subject\">\\n            <img src=\"../skin/board/basic/img/ac_btn1.gif\" align=\"absmiddle\" border=\\'0\\'> <a href=\\'../bbs/board.php?bo_table=testDB&wr_id=1350924&page=2\\'>적립금 기한 연장</a> <img src=\\'../skin/board/basic/img/icon_new.gif\\' align=\\'absmiddle\\'>    <img src=\\'../skin/board/basic/img/icon_secret.gif\\' align=\\'absmiddle\\'>        </td>\\n        <td class=\"name\"><span class=\\'guest\\'>임미원</span></td>\\n        <td class=\"datetime\">14:42</td>\\n        <td class=\"hit\"><!--0-->&nbsp;</td>\\n                    </tr>\\n    \\n    <tr class=\"bg0\">\\n        <td class=\"num\">\\n            1350923        </td>\\n       \\t\\t\\t<td class=\"company\">낭만욕실제작소</td>\\n        \\t<td class=\"cate\">\\n        \\t\\t        \\t\\t        \\t\\t        \\t\\t        \\t\\t        \\t\\t        \\t\\t        \\t\\t        \\t\\t        \\t\\t        \\t\\t        \\t\\t기타        \\t\\t        \\t\\t        \\t</td>\\n                        <td class=\"subject\">\\n            <img src=\"../skin/board/basic/img/ac_btn1.gif\" align=\"absmiddle\" border=\\'0\\'> <a href=\\'../bbs/board.php?bo_table=testDB&wr_id=1350923&page=2\\'>욕실 인테리어 시공 불량</a> <img src=\\'../skin/board/basic/img/icon_new.gif\\' align=\\'absmiddle\\'> <img src=\\'../skin/board/basic/img/icon_file.gif\\' align=\\'absmiddle\\'>   <img src=\\'../skin/board/basic/img/icon_secret.gif\\' align=\\'absmiddle\\'>        </td>\\n        <td class=\"name\"><span class=\\'guest\\'>문성호</span></td>\\n        <td class=\"datetime\">14:42</td>\\n        <td class=\"hit\"><!--0-->&nbsp;</td>\\n                    </tr>\\n    \\n    <tr class=\"bg1\">\\n        <td class=\"num\">\\n            1350921        </td>\\n       \\t\\t\\t<td class=\"company\">로이드</td>\\n        \\t<td class=\"cate\">\\n        \\t\\t        \\t\\t생활용품(화장품)        \\t\\t        \\t\\t        \\t\\t        \\t\\t        \\t\\t        \\t\\t        \\t\\t        \\t\\t        \\t\\t        \\t\\t        \\t\\t        \\t\\t        \\t</td>\\n                        <td class=\"subject\">\\n            <img src=\"../skin/board/basic/img/ac_btn1.gif\" align=\"absmiddle\" border=\\'0\\'> <a href=\\'../bbs/board.php?bo_table=testDB&wr_id=1350921&page=2\\'>애플워치 스트랩이 하루만에 하자 발생 했는…</a> <img src=\\'../skin/board/basic/img/icon_new.gif\\' align=\\'absmiddle\\'>            </td>\\n        <td class=\"name\"><span class=\\'guest\\'>안상윤</span></td>\\n        <td class=\"datetime\">14:41</td>\\n        <td class=\"hit\"><!--10-->&nbsp;</td>\\n                    </tr>\\n    \\n    \\n    </table>\\n    </form>\\n\\n    <div class=\"board_button\">\\n        <div style=\"float:left;\">\\n                        </div>\\n\\n        <!--div style=\"float:right;\">\\n        <a href=\"../com/notice.html\"><img src=\"../skin/board/basic/img/btn_write.gif\" border=\\'0\\'></a>        </div-->\\n    </div>\\n\\n    <!-- 페이지 -->\\n    <div class=\"board_page\">\\n                        <a href=\\'./board.php?bo_table=testDB&page=2&page=1\\'><img src=\\'../skin/board/basic/img/page_begin.gif\\' border=\\'0\\' align=\\'absmiddle\\' title=\\'처음\\'></a> &nbsp;<a href=\\'./board.php?bo_table=testDB&page=2&page=1\\'><span>1</span></a> &nbsp;<b><span style=\"color:#4D6185; font-size:12px; text-decoration:underline;\">2</span></b>  &nbsp;<a href=\\'./board.php?bo_table=testDB&page=2&page=3\\'><span>3</span></a> &nbsp;<a href=\\'./board.php?bo_table=testDB&page=2&page=4\\'><span>4</span></a> &nbsp;<a href=\\'./board.php?bo_table=testDB&page=2&page=5\\'><span>5</span></a> &nbsp;<a href=\\'./board.php?bo_table=testDB&page=2&page=6\\'><span>6</span></a> &nbsp;<a href=\\'./board.php?bo_table=testDB&page=2&page=7\\'><span>7</span></a> &nbsp;<a href=\\'./board.php?bo_table=testDB&page=2&page=8\\'><span>8</span></a> &nbsp;<a href=\\'./board.php?bo_table=testDB&page=2&page=9\\'><span>9</span></a> &nbsp;<a href=\\'./board.php?bo_table=testDB&page=2&page=10\\'><span>10</span></a> &nbsp;<a href=\\'./board.php?bo_table=testDB&page=2&page=11\\'><img src=\\'../skin/board/basic/img/page_next.gif\\' border=\\'0\\' align=\\'absmiddle\\' title=\\'다음\\'></a> &nbsp;<a href=\\'./board.php?bo_table=testDB&page=2&page=34057\\'><img src=\\'../skin/board/basic/img/page_end.gif\\' border=\\'0\\' align=\\'absmiddle\\' title=\\'맨끝\\'></a>            </div>\\n\\n    <!-- 검색 -->\\n\\t    <div class=\"board_search\">\\n        <form name=\"fsearch\" method=\"get\">\\n        <input type=\"hidden\" name=\"bo_table\" value=\"testDB\">\\n        <input type=\"hidden\" name=\"sca\"      value=\"\">\\n        <select name=\"sfl\">\\n            <option value=\"wr_subject\">제목</option>\\n            <option value=\"wr_content\">내용</option>\\n            <option value=\"wr_subject||wr_content\">제목+내용</option>\\n            <option value=\"mb_id,1\">회원아이디</option>\\n            <option value=\"mb_id,0\">회원아이디(코)</option>\\n            <option value=\"wr_name,1\">글쓴이</option>\\n            <option value=\"wr_name,0\">글쓴이(코)</option>\\n        </select>\\n        <input name=\"stx\" class=\"stx\" maxlength=\"15\" itemname=\"검색어\" required value=\\'\\'>\\n        <input type=\"image\" src=\"../skin/board/basic/img/btn_search.gif\" border=\\'0\\' align=\"absmiddle\">\\n        <input type=\"radio\" name=\"sop\" value=\"and\">and\\n        <input type=\"radio\" name=\"sop\" value=\"or\">or\\n        </form>\\n    </div>\\n\\t\\n</td></tr></table>\\n\\n<script type=\"text/javascript\">\\nif (\\'\\') document.fcategory.sca.value = \\'\\';\\nif (\\'\\') {\\n    document.fsearch.sfl.value = \\'\\';\\n\\n    if (\\'and\\' == \\'and\\')\\n        document.fsearch.sop[0].checked = true;\\n\\n    if (\\'and\\' == \\'or\\')\\n        document.fsearch.sop[1].checked = true;\\n} else {\\n    document.fsearch.sop[0].checked = true;\\n}\\n</script>\\n\\n<!-- 게시판 목록 끝 -->\\n\\t\\t\\t\\t</td>\\n        </tr>\\n      </table></td>\\n  </tr>\\n</table>\\n<!--카피라이트-->\\n\\t\\n<style type=\"text/css\">\\n#pc-footer {width:970px;margin:40px auto 0 auto;}\\n#pc-footer .footer-nav {margin-left:230px;}\\n#pc-footer .footer-nav a {padding-right:10px;color:#000;font-weight:bold;}\\n</style>\\n\\n<div id=\"pc-footer\">\\n\\t<div class=\"footer-nav\">\\n\\t\\t<a href=\"/com/privacy.html\" target=\"_blank\">개인정보처리방침</a>\\n\\t\\t<a href=\"/com/youthpolicy.html\" target=\"_blank\">청소년보호정책</a>\\n\\t</div>\\n</div>\\n\\n<table width=\"970\" border=\"0\" align=\"center\" cellpadding=\"0\" cellspacing=\"0\">\\n  <tr>\\n  \\t<!--<td style=\"padding:40 0 0 0\"><img src=\"/gobal/images/copy.gif\"></td></br>-->\\n    <td style=\"padding:0 0 0 0\"><img src=\"/gobal/images/12435_copy.gif?0628\"></td>\\n\\t<td><!--<a href=\"/\"><img src=\"/img/logo_consumer.png\" height=\"25\" style=\"margin:0 0 15px 0\" /></a>--><!--<img src=\"http://im.consumernews.co.kr/logo/logo.png\" height=\"25\" style=\"margin:0 0 15px 0\" />--></td>\\n  </tr>\\n</table><!--카피라이트 끝-->\\n<script type=\"text/javascript\" src=\"../js/wrest.js\"></script>\\n\\n<!-- 새창 대신 사용하는 iframe -->\\n<iframe width=0 height=0 name=\\'hiddenframe\\' style=\\'display:none;\\'></iframe>\\n\\n\\n</body>\\n</html>\\n\\n<!-- 사용스킨 : basic -->\\n'"
      ]
     },
     "execution_count": 6,
     "metadata": {},
     "output_type": "execute_result"
    }
   ],
   "source": [
    "import requests\n",
    "from bs4 import BeautifulSoup\n",
    "import json\n",
    "\n",
    "url = 'http://www.goso.co.kr/bbs/board.php?bo_table=testDB&page=2'\n",
    "response = requests.get(url)\n",
    "\n",
    "soup = BeautifulSoup(response.text, 'html.parser')\n",
    "\n",
    "response.text"
   ]
  },
  {
   "cell_type": "code",
   "execution_count": 15,
   "metadata": {},
   "outputs": [
    {
     "ename": "AttributeError",
     "evalue": "ResultSet object has no attribute 'text'. You're probably treating a list of elements like a single element. Did you call find_all() when you meant to call find()?",
     "output_type": "error",
     "traceback": [
      "\u001b[0;31m---------------------------------------------------------------------------\u001b[0m",
      "\u001b[0;31mAttributeError\u001b[0m                            Traceback (most recent call last)",
      "Cell \u001b[0;32mIn[15], line 1\u001b[0m\n\u001b[0;32m----> 1\u001b[0m complaint \u001b[38;5;241m=\u001b[39m \u001b[43msoup\u001b[49m\u001b[38;5;241;43m.\u001b[39;49m\u001b[43mselect\u001b[49m\u001b[43m(\u001b[49m\u001b[38;5;124;43m'\u001b[39;49m\u001b[38;5;124;43m.fboardlist>.board_list\u001b[39;49m\u001b[38;5;124;43m'\u001b[39;49m\u001b[43m)\u001b[49m\u001b[38;5;241;43m.\u001b[39;49m\u001b[43mtext\u001b[49m\n\u001b[1;32m      2\u001b[0m \u001b[38;5;28mprint\u001b[39m(complaint)\n",
      "File \u001b[0;32m~/.conda/envs/sesac/lib/python3.10/site-packages/bs4/element.py:2433\u001b[0m, in \u001b[0;36mResultSet.__getattr__\u001b[0;34m(self, key)\u001b[0m\n\u001b[1;32m   2431\u001b[0m \u001b[38;5;28;01mdef\u001b[39;00m \u001b[38;5;21m__getattr__\u001b[39m(\u001b[38;5;28mself\u001b[39m, key):\n\u001b[1;32m   2432\u001b[0m \u001b[38;5;250m    \u001b[39m\u001b[38;5;124;03m\"\"\"Raise a helpful exception to explain a common code fix.\"\"\"\u001b[39;00m\n\u001b[0;32m-> 2433\u001b[0m     \u001b[38;5;28;01mraise\u001b[39;00m \u001b[38;5;167;01mAttributeError\u001b[39;00m(\n\u001b[1;32m   2434\u001b[0m         \u001b[38;5;124m\"\u001b[39m\u001b[38;5;124mResultSet object has no attribute \u001b[39m\u001b[38;5;124m'\u001b[39m\u001b[38;5;132;01m%s\u001b[39;00m\u001b[38;5;124m'\u001b[39m\u001b[38;5;124m. You\u001b[39m\u001b[38;5;124m'\u001b[39m\u001b[38;5;124mre probably treating a list of elements like a single element. Did you call find_all() when you meant to call find()?\u001b[39m\u001b[38;5;124m\"\u001b[39m \u001b[38;5;241m%\u001b[39m key\n\u001b[1;32m   2435\u001b[0m     )\n",
      "\u001b[0;31mAttributeError\u001b[0m: ResultSet object has no attribute 'text'. You're probably treating a list of elements like a single element. Did you call find_all() when you meant to call find()?"
     ]
    }
   ],
   "source": [
    "complaint = soup.select('.fboardlist>.board_list').text\n",
    "print(complaint)"
   ]
  }
 ],
 "metadata": {
  "kernelspec": {
   "display_name": "sesac",
   "language": "python",
   "name": "python3"
  },
  "language_info": {
   "codemirror_mode": {
    "name": "ipython",
    "version": 3
   },
   "file_extension": ".py",
   "mimetype": "text/x-python",
   "name": "python",
   "nbconvert_exporter": "python",
   "pygments_lexer": "ipython3",
   "version": "3.10.15"
  }
 },
 "nbformat": 4,
 "nbformat_minor": 2
}
