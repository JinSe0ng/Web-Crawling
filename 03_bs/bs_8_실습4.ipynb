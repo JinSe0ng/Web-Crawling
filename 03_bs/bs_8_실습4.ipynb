{
 "cells": [
  {
   "cell_type": "markdown",
   "metadata": {
    "id": "LpLBZarxHd_6"
   },
   "source": [
    "# 실습 4"
   ]
  },
  {
   "cell_type": "markdown",
   "metadata": {
    "id": "rpR6zVToHd_7"
   },
   "source": [
    "## 4.1 기사 제목, 내용 먼저 갖고 오기"
   ]
  },
  {
   "cell_type": "code",
   "execution_count": 4,
   "metadata": {
    "colab": {
     "base_uri": "https://localhost:8080/"
    },
    "executionInfo": {
     "elapsed": 1309,
     "status": "ok",
     "timestamp": 1724398077888,
     "user": {
      "displayName": "김지성",
      "userId": "08089280915681010656"
     },
     "user_tz": -540
    },
    "id": "UpuSTd5YHd_8",
    "outputId": "edd7f4a5-bc35-4021-c312-71e938d45465"
   },
   "outputs": [
    {
     "data": {
      "text/plain": [
       "{'title': '임시현, ‘3관왕’ 달성···남수현 은메달까지, 한국 女 개인전도 쓸었다',\n",
       " 'body': '임시현(오른쪽)이 3일 파리올림픽 양궁 여자 개인전 결승에서 승리해 금메달을 확정한 뒤 남수현과 끌어안고 기뻐하고 있다. 파리 | 로이터연합뉴스임시현(21)이 2024 파리올림픽에서 3관왕에 올랐다.임시현은 3일 프랑스 파리 앵발리드에서 열린 2024 파리올림픽 양궁 여자 개인전 결승에서 남수현(19)과 대결, 세트점수 7-3으로 승리했다.앞서 여자 단체전 금메달에 이어 2일 김우진과 함께 혼성 단체전 금메달을 딴 임시현은 여자 개인전까지 우승하면서 3개의 금메달을 쓸어담았다. 혼성 단체전이 도입된 2020 도쿄올림픽에서 안산에 이어 이번 대회에서도 한국 선수 임시현이 3관왕을 차지했다.더불어 한국 여자 양궁은 2012년 런던올림픽(기보배)부터 2016년 리우데자네이루 올림픽(장혜진), 2021년 도쿄올림픽(안산)에 이어 2024년 파리올림픽의 임시현이 우승하면서 개인전 4연패를 달성했다.임시현은 4강과 결승전에서 모두 한국 선수와 대결했다. 한국 선수 3명이 나란히 4강에 진출하면서 대진상 임시현이 전훈영과 4강에서 만났고 세트 점수 6-4로 승리하고 결승에 나갔다. 프랑스 선수를 꺾고 결승에 올라온 남수현과 치른 결승전에서는 접전 끝에 세트 점수 7-3으로 이겼다.1세트에서 둘이 나란히 10점 두 발과 9점을 쏴 세트 점수 1점씩 나눠가졌다. 임시현은 2세트에도 9점 뒤 10점 두 발을 쐈고 남수현이 두번째 슛에서 7점을 맞히면서 임시현이 앞서 갔다.임시현은 3세트에서는 3발을 모두 10점으로 맞혀 따냈고, 4세트에서는 10점-9점-10점을 쐈으나 이번에는 남수현이 10점 3발을 쏴 세트 점수 2점을 가져갔다.5-3으로 임시현이 앞선 채 이어진 5세트에서 임시현이 첫 발에 10점을 쏘고 남수현이 8점을 쐈다. 두번째 화살에는 임시현이 8점, 남수현이 10점을 쐈다. 동률 상태에서 마지막 한 발이 남았고 임시현이 10점을 넣은 뒤 남수현이 8점을 넣으면서 임시현이 금메달, 남수현의 은메달이 확정됐다.4강전에서 임시현에게 져 동메달 결정전으로 향한 전훈영은 프랑스 리사 바벨랭과 접전 끝에 세트 점수 4-6으로 져 메달 획득에는 실패했다.한국은 이로써 여자 단체전, 남자 단체전, 혼성 단체전에 이어 여자 개인전까지 양궁에 5개 걸린 금메달 중 4개를 쓸어담았다. 4일에는 남자 개인전이 열린다.'}"
      ]
     },
     "execution_count": 4,
     "metadata": {},
     "output_type": "execute_result"
    }
   ],
   "source": [
    "import requests\n",
    "import json\n",
    "from bs4 import BeautifulSoup\n",
    "\n",
    "# 에러 뜨면 헤더 집어넣기\n",
    "headers = {\n",
    "    'user-agent':'Mozilla/5.0 (Windows NT 10.0; Win64; x64) AppleWebKit/537.36 (KHTML, like Gecko) Chrome/127.0.0.0 Safari/537.36'\n",
    "}\n",
    "\n",
    "response = requests.get('https://n.news.naver.com/mnews/article/032/0003312694', headers=headers)\n",
    "# print(response.status_code)\n",
    "# print(response.text)\n",
    "\n",
    "soup = BeautifulSoup(response.text, 'html.parser')\n",
    "\n",
    "# 기사 제목, 내용\n",
    "title = soup.select_one('#title_area span').text.strip()\n",
    "body = soup.select_one('article#dic_area').text.strip()\n",
    "\n",
    "# dicionary형태로 만들어 놓기\n",
    "news = dict(title=title, body=body)\n",
    "news\n"
   ]
  },
  {
   "cell_type": "markdown",
   "metadata": {
    "id": "KAmMfbkLHd_9"
   },
   "source": [
    "## 4.2 사람들 반응 갖고오기"
   ]
  },
  {
   "cell_type": "markdown",
   "metadata": {
    "id": "ordjpuKCHd_9"
   },
   "source": [
    "- json호출 안 되는 거 보여주기"
   ]
  },
  {
   "cell_type": "code",
   "execution_count": 5,
   "metadata": {
    "colab": {
     "base_uri": "https://localhost:8080/"
    },
    "executionInfo": {
     "elapsed": 790,
     "status": "ok",
     "timestamp": 1724398080128,
     "user": {
      "displayName": "김지성",
      "userId": "08089280915681010656"
     },
     "user_tz": -540
    },
    "id": "z4zNs3rPHd_9",
    "outputId": "7d8271af-f1fa-4042-d89c-82f5d1f0e745"
   },
   "outputs": [
    {
     "name": "stdout",
     "output_type": "stream",
     "text": [
      "/**/jQuery3310678863453282815_1722702074748({\"contents\":[{\"serviceId\":\"NEWS\",\"contentsId\":\"ne_032_0003312694\",\"isDisplay\":true,\"categoryId\":null,\"countType\":\"DEFAULT\",\"reactions\":[{\"reactionType\":\"useful\",\"count\":1,\"isReacted\":false,\"periodUser\":null,\"reactionTypeCode\":{\"name\":\"useful\",\"messageCode\":\"reaction.type.useful\",\"description\":\"유익해요\"}},{\"reactionType\":\"analytical\",\"count\":1,\"isReacted\":false,\"periodUser\":null,\"reactionTypeCode\":{\"name\":\"analytical\",\"messageCode\":\"reaction.type.analytical\",\"description\":\"분석이탁월해요\"}},{\"reactionType\":\"wow\",\"count\":3,\"isReacted\":false,\"periodUser\":null,\"reactionTypeCode\":{\"name\":\"wow\",\"messageCode\":\"reaction.type.wow\",\"description\":\"놀랍네요\"}},{\"reactionType\":\"recommend\",\"count\":2,\"isReacted\":false,\"periodUser\":null,\"reactionTypeCode\":{\"name\":\"recommend\",\"messageCode\":\"reaction.type.recommend\",\"description\":\"추천해요\"}},{\"reactionType\":\"touched\",\"count\":21,\"isReacted\":false,\"periodUser\":null,\"reactionTypeCode\":{\"name\":\"touched\",\"messageCode\":\"reaction.type.touched\",\"description\":\"감동받았어요\"}}],\"reactionMap\":{\"com.naver.react.core.nbasearc.common.ReactionType@45f80a8a\":{\"reactionType\":\"useful\",\"count\":1,\"isReacted\":false,\"periodUser\":null,\"reactionTypeCode\":{\"name\":\"useful\",\"messageCode\":\"reaction.type.useful\",\"description\":\"유익해요\"}},\"com.naver.react.core.nbasearc.common.ReactionType@265ea11c\":{\"reactionType\":\"analytical\",\"count\":1,\"isReacted\":false,\"periodUser\":null,\"reactionTypeCode\":{\"name\":\"analytical\",\"messageCode\":\"reaction.type.analytical\",\"description\":\"분석이탁월해요\"}},\"com.naver.react.core.nbasearc.common.ReactionType@3b14e0ad\":{\"reactionType\":\"wow\",\"count\":3,\"isReacted\":false,\"periodUser\":null,\"reactionTypeCode\":{\"name\":\"wow\",\"messageCode\":\"reaction.type.wow\",\"description\":\"놀랍네요\"}},\"com.naver.react.core.nbasearc.common.ReactionType@7e0d13e6\":{\"reactionType\":\"recommend\",\"count\":2,\"isReacted\":false,\"periodUser\":null,\"reactionTypeCode\":{\"name\":\"recommend\",\"messageCode\":\"reaction.type.recommend\",\"description\":\"추천해요\"}},\"com.naver.react.core.nbasearc.common.ReactionType@7e4d05f1\":{\"reactionType\":\"touched\",\"count\":21,\"isReacted\":false,\"periodUser\":null,\"reactionTypeCode\":{\"name\":\"touched\",\"messageCode\":\"reaction.type.touched\",\"description\":\"감동받았어요\"}}},\"reactionTextMap\":{\"ko\":{\"touched\":\"공감백배\",\"warm\":\"훈훈해요\",\"analytical\":\"분석탁월\",\"like\":\"좋아요\",\"sad\":\"슬퍼요\",\"want\":\"후속기사원해요\",\"recommend\":\"후속강추\",\"angry\":\"화나요\",\"useful\":\"쏠쏠정보\",\"wow\":\"흥미진진\"},\"zh-hant\":{\"touched\":\"感動\",\"warm\":\"warm\",\"analytical\":\"analytical\",\"like\":\"讚\",\"sad\":\"sad\",\"want\":\"want\",\"recommend\":\"recommend\",\"angry\":\"angry\",\"useful\":\"useful\",\"wow\":\"驚\"},\"zh-tw\":{\"touched\":\"touched\",\"warm\":\"warm\",\"analytical\":\"analytical\",\"like\":\"like\",\"sad\":\"sad\",\"want\":\"want\",\"recommend\":\"recommend\",\"angry\":\"angry\",\"useful\":\"useful\",\"wow\":\"wow\"},\"zh-hans\":{\"touched\":\"感动\",\"warm\":\"warm\",\"analytical\":\"analytical\",\"like\":\"喜欢\",\"sad\":\"sad\",\"want\":\"want\",\"recommend\":\"recommend\",\"angry\":\"angry\",\"useful\":\"useful\",\"wow\":\"惊讶\"},\"ja\":{\"touched\":\"感動した\",\"warm\":\"いい話だなあ\",\"analytical\":\"analytical\",\"like\":\"いいね\",\"sad\":\"悲しい\",\"want\":\"続きを教えて\",\"recommend\":\"お勧め\",\"angry\":\"有益\",\"useful\":\"有益です\",\"wow\":\"びっくり\"},\"en\":{\"touched\":\"touched\",\"warm\":\"warm\",\"analytical\":\"analytical\",\"like\":\"like\",\"sad\":\"sad\",\"want\":\"want\",\"recommend\":\"recommend\",\"angry\":\"angry\",\"useful\":\"useful\",\"wow\":\"wow\"},\"fr\":{\"touched\":\"Ému\",\"warm\":\"warm\",\"analytical\":\"analytical\",\"like\":\"J'aime\",\"sad\":\"sad\",\"want\":\"want\",\"recommend\":\"recommend\",\"angry\":\"angry\",\"useful\":\"useful\",\"wow\":\"wow\"},\"zh-cn\":{\"touched\":\"touched\",\"warm\":\"warm\",\"analytical\":\"analytical\",\"like\":\"like\",\"sad\":\"sad\",\"want\":\"want\",\"recommend\":\"recommend\",\"angry\":\"angry\",\"useful\":\"useful\",\"wow\":\"wow\"},\"es\":{\"touched\":\"Me encanta\",\"warm\":\"warm\",\"analytical\":\"analytical\",\"like\":\"Me gusta\",\"sad\":\"sad\",\"want\":\"want\",\"recommend\":\"recommend\",\"angry\":\"angry\",\"useful\":\"useful\",\"wow\":\"Me asombra\"},\"es-mx\":{\"touched\":\"Me encanta\",\"warm\":\"warm\",\"analytical\":\"analytical\",\"like\":\"Me gusta\",\"sad\":\"sad\",\"want\":\"want\",\"recommend\":\"recommend\",\"angry\":\"angry\",\"useful\":\"useful\",\"wow\":\"Me asombra\"}},\"isLogin\":false,\"customized\":false,\"differentPlatform\":false}],\"serviceOptionType\":{\"NEWS\":{\"012\":false,\"006\":false}},\"timestamp\":1724398079622,\"isLogin\":false,\"cssConfs\":[{\"cssId\":\"MULTI_MOBILE\",\"assignId\":\"96df73bf-37ba-42a2-a647-6fdd5c1a8b3c\",\"staticId\":\"0f848d92-d73a-49ce-9451-6e83c2c13847\",\"envType\":\"MOBILE\",\"applyYn\":\"Y\"},{\"cssId\":\"NEWS_MOBILE\",\"assignId\":\"6ed8891d-2046-4776-ace8-4d68dc300956\",\"staticId\":\"65d59df6-4ff2-468a-9d77-bc0af1c779c3\",\"envType\":\"mobile\",\"applyYn\":null}]});\n"
     ]
    }
   ],
   "source": [
    "reaction_response = requests.get('https://news.like.naver.com/v1/search/contents?suppress_response_codes=true&callback=jQuery3310678863453282815_1722702074748&q=NEWS%5Bne_032_0003312694%5D&isDuplication=false&cssIds=MULTI_MOBILE%2CNEWS_MOBILE&_=1722702074749')\n",
    "# json호출이 안됨\n",
    "# print(reaction_response.json() )\n",
    "\n",
    "# json형식이 맞는지 잘 보면 앞에 이상한 함수로 감싸져있음\n",
    "print(reaction_response.text)\n"
   ]
  },
  {
   "cell_type": "code",
   "execution_count": 6,
   "metadata": {
    "colab": {
     "base_uri": "https://localhost:8080/"
    },
    "executionInfo": {
     "elapsed": 506,
     "status": "ok",
     "timestamp": 1724398081809,
     "user": {
      "displayName": "김지성",
      "userId": "08089280915681010656"
     },
     "user_tz": -540
    },
    "id": "KPhiMJ9zHd_9",
    "outputId": "7c7b7aa0-86f3-4612-b8f8-6f8c3e5d938c"
   },
   "outputs": [
    {
     "name": "stdout",
     "output_type": "stream",
     "text": [
      "<class 'dict'>\n",
      "{'contents': [{'serviceId': 'NEWS', 'contentsId': 'ne_032_0003312694', 'isDisplay': True, 'categoryId': None, 'countType': 'DEFAULT', 'reactions': [{'reactionType': 'analytical', 'count': 1, 'isReacted': False, 'periodUser': None, 'reactionTypeCode': {'name': 'analytical', 'messageCode': 'reaction.type.analytical', 'description': '분석이탁월해요'}}, {'reactionType': 'recommend', 'count': 2, 'isReacted': False, 'periodUser': None, 'reactionTypeCode': {'name': 'recommend', 'messageCode': 'reaction.type.recommend', 'description': '추천해요'}}, {'reactionType': 'touched', 'count': 21, 'isReacted': False, 'periodUser': None, 'reactionTypeCode': {'name': 'touched', 'messageCode': 'reaction.type.touched', 'description': '감동받았어요'}}, {'reactionType': 'useful', 'count': 1, 'isReacted': False, 'periodUser': None, 'reactionTypeCode': {'name': 'useful', 'messageCode': 'reaction.type.useful', 'description': '유익해요'}}, {'reactionType': 'wow', 'count': 3, 'isReacted': False, 'periodUser': None, 'reactionTypeCode': {'name': 'wow', 'messageCode': 'reaction.type.wow', 'description': '놀랍네요'}}], 'reactionMap': {'com.naver.react.core.nbasearc.common.ReactionType@40729c63': {'reactionType': 'analytical', 'count': 1, 'isReacted': False, 'periodUser': None, 'reactionTypeCode': {'name': 'analytical', 'messageCode': 'reaction.type.analytical', 'description': '분석이탁월해요'}}, 'com.naver.react.core.nbasearc.common.ReactionType@402a824f': {'reactionType': 'recommend', 'count': 2, 'isReacted': False, 'periodUser': None, 'reactionTypeCode': {'name': 'recommend', 'messageCode': 'reaction.type.recommend', 'description': '추천해요'}}, 'com.naver.react.core.nbasearc.common.ReactionType@5abed059': {'reactionType': 'touched', 'count': 21, 'isReacted': False, 'periodUser': None, 'reactionTypeCode': {'name': 'touched', 'messageCode': 'reaction.type.touched', 'description': '감동받았어요'}}, 'com.naver.react.core.nbasearc.common.ReactionType@3bf0ce4f': {'reactionType': 'useful', 'count': 1, 'isReacted': False, 'periodUser': None, 'reactionTypeCode': {'name': 'useful', 'messageCode': 'reaction.type.useful', 'description': '유익해요'}}, 'com.naver.react.core.nbasearc.common.ReactionType@2376d229': {'reactionType': 'wow', 'count': 3, 'isReacted': False, 'periodUser': None, 'reactionTypeCode': {'name': 'wow', 'messageCode': 'reaction.type.wow', 'description': '놀랍네요'}}}, 'reactionTextMap': {'ko': {'touched': '공감백배', 'warm': '훈훈해요', 'analytical': '분석탁월', 'like': '좋아요', 'sad': '슬퍼요', 'want': '후속기사원해요', 'recommend': '후속강추', 'angry': '화나요', 'useful': '쏠쏠정보', 'wow': '흥미진진'}, 'zh-hant': {'touched': '感動', 'warm': 'warm', 'analytical': 'analytical', 'like': '讚', 'sad': 'sad', 'want': 'want', 'recommend': 'recommend', 'angry': 'angry', 'useful': 'useful', 'wow': '驚'}, 'zh-tw': {'touched': 'touched', 'warm': 'warm', 'analytical': 'analytical', 'like': 'like', 'sad': 'sad', 'want': 'want', 'recommend': 'recommend', 'angry': 'angry', 'useful': 'useful', 'wow': 'wow'}, 'zh-hans': {'touched': '感动', 'warm': 'warm', 'analytical': 'analytical', 'like': '喜欢', 'sad': 'sad', 'want': 'want', 'recommend': 'recommend', 'angry': 'angry', 'useful': 'useful', 'wow': '惊讶'}, 'ja': {'touched': '感動した', 'warm': 'いい話だなあ', 'analytical': 'analytical', 'like': 'いいね', 'sad': '悲しい', 'want': '続きを教えて', 'recommend': 'お勧め', 'angry': '有益', 'useful': '有益です', 'wow': 'びっくり'}, 'en': {'touched': 'touched', 'warm': 'warm', 'analytical': 'analytical', 'like': 'like', 'sad': 'sad', 'want': 'want', 'recommend': 'recommend', 'angry': 'angry', 'useful': 'useful', 'wow': 'wow'}, 'fr': {'touched': 'Ému', 'warm': 'warm', 'analytical': 'analytical', 'like': \"J'aime\", 'sad': 'sad', 'want': 'want', 'recommend': 'recommend', 'angry': 'angry', 'useful': 'useful', 'wow': 'wow'}, 'zh-cn': {'touched': 'touched', 'warm': 'warm', 'analytical': 'analytical', 'like': 'like', 'sad': 'sad', 'want': 'want', 'recommend': 'recommend', 'angry': 'angry', 'useful': 'useful', 'wow': 'wow'}, 'es': {'touched': 'Me encanta', 'warm': 'warm', 'analytical': 'analytical', 'like': 'Me gusta', 'sad': 'sad', 'want': 'want', 'recommend': 'recommend', 'angry': 'angry', 'useful': 'useful', 'wow': 'Me asombra'}, 'es-mx': {'touched': 'Me encanta', 'warm': 'warm', 'analytical': 'analytical', 'like': 'Me gusta', 'sad': 'sad', 'want': 'want', 'recommend': 'recommend', 'angry': 'angry', 'useful': 'useful', 'wow': 'Me asombra'}}, 'isLogin': False, 'differentPlatform': False, 'customized': False}], 'serviceOptionType': {'NEWS': {'012': False, '006': False}}, 'timestamp': 1724398081184, 'isLogin': False, 'cssConfs': [{'cssId': 'MULTI_MOBILE', 'assignId': '96df73bf-37ba-42a2-a647-6fdd5c1a8b3c', 'staticId': '0f848d92-d73a-49ce-9451-6e83c2c13847', 'envType': 'MOBILE', 'applyYn': 'Y'}, {'cssId': 'NEWS_MOBILE', 'assignId': '6ed8891d-2046-4776-ace8-4d68dc300956', 'staticId': '65d59df6-4ff2-468a-9d77-bc0af1c779c3', 'envType': 'mobile', 'applyYn': None}]}\n"
     ]
    }
   ],
   "source": [
    "# url에서 jQuery에 해당하는부분 삭제하고 다시 불러오기\n",
    "reaction_response = requests.get('https://news.like.naver.com/v1/search/contents?suppress_response_codes=true&q=NEWS%5Bne_032_0003312694%5D&isDuplication=false&cssIds=MULTI_MOBILE%2CNEWS_MOBILE&_=1722702074749')\n",
    "print(type(reaction_response.json()))\n",
    "print(reaction_response.json()) # 잘 불러와짐을 확인"
   ]
  },
  {
   "cell_type": "markdown",
   "metadata": {
    "id": "_HrX7Y9YHd_-"
   },
   "source": [
    "- api 서버 찾아서 데이터 갖고오기"
   ]
  },
  {
   "cell_type": "code",
   "execution_count": null,
   "metadata": {
    "id": "-odITbAnHd_-",
    "outputId": "8f37b49e-4d3e-4c52-fda6-232014157fff"
   },
   "outputs": [
    {
     "name": "stdout",
     "output_type": "stream",
     "text": [
      "{'reaction': 'useful', 'describe': '유익해요', 'count': 1}\n",
      "{'reaction': 'recommend', 'describe': '추천해요', 'count': 2}\n",
      "{'reaction': 'touched', 'describe': '감동받았어요', 'count': 21}\n",
      "{'reaction': 'analytical', 'describe': '분석이탁월해요', 'count': 1}\n",
      "{'reaction': 'wow', 'describe': '놀랍네요', 'count': 3}\n"
     ]
    }
   ],
   "source": [
    "reactions = reaction_response.json()['contents'][0]['reactions']\n",
    "# reactions[0]\n",
    "for react in reactions:\n",
    "    reaction = react['reactionType']\n",
    "    desc = react['reactionTypeCode']['description']\n",
    "    count = react['count']\n",
    "\n",
    "    print(dict(reaction=reaction, describe=desc, count=count))\n"
   ]
  },
  {
   "cell_type": "markdown",
   "metadata": {
    "id": "8_kIt2aaHd_-"
   },
   "source": [
    "- news객체 다시 만들어주기"
   ]
  },
  {
   "cell_type": "code",
   "execution_count": null,
   "metadata": {
    "id": "s9R7U320Hd_-",
    "outputId": "7028c48a-a534-4349-d5f9-e9a954d9c72a"
   },
   "outputs": [
    {
     "data": {
      "text/plain": [
       "{'title': '임시현, ‘3관왕’ 달성···남수현 은메달까지, 한국 女 개인전도 쓸었다',\n",
       " 'body': '임시현(오른쪽)이 3일 파리올림픽 양궁 여자 개인전 결승에서 승리해 금메달을 확정한 뒤 남수현과 끌어안고 기뻐하고 있다. 파리 | 로이터연합뉴스임시현(21)이 2024 파리올림픽에서 3관왕에 올랐다.임시현은 3일 프랑스 파리 앵발리드에서 열린 2024 파리올림픽 양궁 여자 개인전 결승에서 남수현(19)과 대결, 세트점수 7-3으로 승리했다.앞서 여자 단체전 금메달에 이어 2일 김우진과 함께 혼성 단체전 금메달을 딴 임시현은 여자 개인전까지 우승하면서 3개의 금메달을 쓸어담았다. 혼성 단체전이 도입된 2020 도쿄올림픽에서 안산에 이어 이번 대회에서도 한국 선수 임시현이 3관왕을 차지했다.더불어 한국 여자 양궁은 2012년 런던올림픽(기보배)부터 2016년 리우데자네이루 올림픽(장혜진), 2021년 도쿄올림픽(안산)에 이어 2024년 파리올림픽의 임시현이 우승하면서 개인전 4연패를 달성했다.임시현은 4강과 결승전에서 모두 한국 선수와 대결했다. 한국 선수 3명이 나란히 4강에 진출하면서 대진상 임시현이 전훈영과 4강에서 만났고 세트 점수 6-4로 승리하고 결승에 나갔다. 프랑스 선수를 꺾고 결승에 올라온 남수현과 치른 결승전에서는 접전 끝에 세트 점수 7-3으로 이겼다.1세트에서 둘이 나란히 10점 두 발과 9점을 쏴 세트 점수 1점씩 나눠가졌다. 임시현은 2세트에도 9점 뒤 10점 두 발을 쐈고 남수현이 두번째 슛에서 7점을 맞히면서 임시현이 앞서 갔다.임시현은 3세트에서는 3발을 모두 10점으로 맞혀 따냈고, 4세트에서는 10점-9점-10점을 쐈으나 이번에는 남수현이 10점 3발을 쏴 세트 점수 2점을 가져갔다.5-3으로 임시현이 앞선 채 이어진 5세트에서 임시현이 첫 발에 10점을 쏘고 남수현이 8점을 쐈다. 두번째 화살에는 임시현이 8점, 남수현이 10점을 쐈다. 동률 상태에서 마지막 한 발이 남았고 임시현이 10점을 넣은 뒤 남수현이 8점을 넣으면서 임시현이 금메달, 남수현의 은메달이 확정됐다.4강전에서 임시현에게 져 동메달 결정전으로 향한 전훈영은 프랑스 리사 바벨랭과 접전 끝에 세트 점수 4-6으로 져 메달 획득에는 실패했다.한국은 이로써 여자 단체전, 남자 단체전, 혼성 단체전에 이어 여자 개인전까지 양궁에 5개 걸린 금메달 중 4개를 쓸어담았다. 4일에는 남자 개인전이 열린다.',\n",
       " 'reaction': {'analytical': 1,\n",
       "  'useful': 1,\n",
       "  'wow': 3,\n",
       "  'touched': 21,\n",
       "  'recommend': 2},\n",
       " 'comments': []}"
      ]
     },
     "execution_count": 6,
     "metadata": {},
     "output_type": "execute_result"
    }
   ],
   "source": [
    "# 기존\n",
    "# news = dict(title=title, body=body)\n",
    "\n",
    "# reaction도 넣어서 다시 만들기\n",
    "news = {\n",
    "    'title' : title,\n",
    "    'body' : body,\n",
    "    'reaction' : {\n",
    "        'analytical': 0,\n",
    "        'useful': 0,\n",
    "        'wow': 0,\n",
    "        'touched': 0,\n",
    "        'recommend': 0\n",
    "    },\n",
    "    'comments': [\n",
    "\n",
    "    ]\n",
    "\n",
    "}\n",
    "\n",
    "\n",
    "reactions = reaction_response.json()['contents'][0]['reactions']\n",
    "for react in reactions:\n",
    "    type = react['reactionType']\n",
    "    desc = react['reactionTypeCode']['description']\n",
    "    count = react['count']\n",
    "\n",
    "    news['reaction'][type] = count\n",
    "\n",
    "news"
   ]
  },
  {
   "cell_type": "markdown",
   "metadata": {
    "id": "7XzctaUPHd_-"
   },
   "source": [
    "- url 분석 : 기사마다 reaction api url만 가져올 수 있도록 고유값 뽑아보기"
   ]
  },
  {
   "cell_type": "code",
   "execution_count": null,
   "metadata": {
    "id": "QV_R_39oHd_-",
    "outputId": "b644a6b3-f998-4a8b-ae00-2adae7b245d3"
   },
   "outputs": [
    {
     "name": "stdout",
     "output_type": "stream",
     "text": [
      "032 0003312684\n"
     ]
    },
    {
     "data": {
      "text/plain": [
       "'https://n.news.naver.com/mnews/article/032/0003312684'"
      ]
     },
     "execution_count": 61,
     "metadata": {},
     "output_type": "execute_result"
    }
   ],
   "source": [
    "# 기사 url에서 고유값에 해당 하는 부분 뽑기\n",
    "url = 'https://n.news.naver.com/mnews/article/032/0003312684'.split('/')\n",
    "first_id = url[-2:][0]\n",
    "second_id = url[-2:][1]\n",
    "print(first_id, second_id)\n",
    "\n",
    "test_url = f'https://n.news.naver.com/mnews/article/{first_id}/{second_id}'\n",
    "test_url\n"
   ]
  },
  {
   "cell_type": "code",
   "execution_count": null,
   "metadata": {
    "id": "YTib2zdrHd_-",
    "outputId": "ac1961b0-e5ba-408f-f068-20c3a5110c7b"
   },
   "outputs": [
    {
     "data": {
      "text/plain": [
       "'https://news.like.naver.com/v1/search/contents?suppress_response_codes=true&q=NEWS%5Bne_032_0003312684%5D&isDuplication=false&cssIds=MULTI_MOBILE%2CNEWS_MOBILE&_=1722702074749'"
      ]
     },
     "execution_count": 62,
     "metadata": {},
     "output_type": "execute_result"
    }
   ],
   "source": [
    "# reaction 기사에 고유값 넣기\n",
    "url = f'https://news.like.naver.com/v1/search/contents?suppress_response_codes=true&q=NEWS%5Bne_{first_id}_{second_id}%5D&isDuplication=false&cssIds=MULTI_MOBILE%2CNEWS_MOBILE&_=1722702074749'\n",
    "url"
   ]
  },
  {
   "cell_type": "markdown",
   "metadata": {
    "id": "GGJyYvndHd__"
   },
   "source": [
    "## 4.3 댓글 갖고오기"
   ]
  },
  {
   "cell_type": "markdown",
   "metadata": {
    "id": "YYXB6CnaHd__"
   },
   "source": [
    "- 기사 1개의 댓글 모두 갖고오기"
   ]
  },
  {
   "cell_type": "code",
   "execution_count": null,
   "metadata": {
    "id": "NF5dE9KAHd__",
    "outputId": "637fe265-50ed-40da-f0f2-3545804ba80f"
   },
   "outputs": [
    {
     "name": "stdout",
     "output_type": "stream",
     "text": [
      "전훈영 여단체 10.10.10 동생들 이끌며 금메달 주역 이었는데..\n",
      "개인전 최소 은메달 감인데 아쉽다.\n",
      "이번 경기장 바람 상태 최악중의 최악이었는데 한국 저력이 놀랍다\n",
      "\n",
      "장하다!!!!!!\n",
      "내마음속 1등은 단체전 1등공신 전훈영이다!\n",
      "전훈영 동메달 따서 태극기 3개 걸렸으면 대박이었는데 아쉽다... 그래도 대한민국 양궁은 최강이다\n",
      "진짜 소름 돋게 잘하네요\n",
      "주몽의 후예 자랑스럽겠지? 오랑캐들아  ? 동북공정 그만해라\n",
      "올림픽 선수들 항상 화이팅!!  이번 파리 올림픽은 개인적으로는 사는 게 힘들어서 예전처럼 열성적으로 시청하거나 응원하지 못해서  다시보기 위주로 봤는데요.  경기 마다  선수들 너무 멋지더라고요!!   남은 기간 시합 남은 분들도  힘내고 아자아자 화이팅!\n",
      "전훈영님도 메달권에는 들지 못해 아쉽지만 올림픽 준비 하시느라 고생 많았습니다. 양궁여제 분들 모두 축하해요~\n",
      "이런 사기같은 일이!!\n",
      "정치권의 🐕수작 짓거리에 짜증ㆍ분노 한방에 날려주는 유쾌, 상쾌. 통쾌!!!!! 마지막 한 개의 메달, 남자 개인전까지 순~삭 기원. 그 마지막 한발 퍼펙트 텐을 여의도 국🐕  로탠더홀 정중앙 천장에 🐕 양아치들 핵심 한 50명을 원샷에 꿰뚫어 꽂아넣길 기원합니다, 홧띵팅팅~♡♡♡\n",
      "호남인들 가운데 명궁 명사수가 많다.. 다가올 미래에 친일매국노들의 본거지인 대구 영남을 손보기위해, 우리 젊은 꿈나무들이 기량을 쌓아가고 있다.. 윤완용, 너 조심해...\n",
      "개인전에서 몸이 풀린듯\n",
      "\n",
      "대한민국을 빛내고 있는 선수분들 패하신 모든분들도 수고들 많으십니다. 남은 경기도 최선을 다해 주시기 바랍니다\n",
      "전훈영이나 남수현이 금메달이었으면 하는 개인적 바램이 있었는데 아쉽게 됐네요. 임시현 3관왕 축하드립니다\n",
      "\n",
      "모두  추카 , 추카 !!   ♡♡\n",
      "쩍발이 떼넘들 대한민국 건들면 화살이 대가리에 팍 꽂힌다.\n"
     ]
    },
    {
     "data": {
      "text/plain": [
       "{'title': '임시현, ‘3관왕’ 달성···남수현 은메달까지, 한국 女 개인전도 쓸었다',\n",
       " 'body': '임시현(오른쪽)이 3일 파리올림픽 양궁 여자 개인전 결승에서 승리해 금메달을 확정한 뒤 남수현과 끌어안고 기뻐하고 있다. 파리 | 로이터연합뉴스임시현(21)이 2024 파리올림픽에서 3관왕에 올랐다.임시현은 3일 프랑스 파리 앵발리드에서 열린 2024 파리올림픽 양궁 여자 개인전 결승에서 남수현(19)과 대결, 세트점수 7-3으로 승리했다.앞서 여자 단체전 금메달에 이어 2일 김우진과 함께 혼성 단체전 금메달을 딴 임시현은 여자 개인전까지 우승하면서 3개의 금메달을 쓸어담았다. 혼성 단체전이 도입된 2020 도쿄올림픽에서 안산에 이어 이번 대회에서도 한국 선수 임시현이 3관왕을 차지했다.더불어 한국 여자 양궁은 2012년 런던올림픽(기보배)부터 2016년 리우데자네이루 올림픽(장혜진), 2021년 도쿄올림픽(안산)에 이어 2024년 파리올림픽의 임시현이 우승하면서 개인전 4연패를 달성했다.임시현은 4강과 결승전에서 모두 한국 선수와 대결했다. 한국 선수 3명이 나란히 4강에 진출하면서 대진상 임시현이 전훈영과 4강에서 만났고 세트 점수 6-4로 승리하고 결승에 나갔다. 프랑스 선수를 꺾고 결승에 올라온 남수현과 치른 결승전에서는 접전 끝에 세트 점수 7-3으로 이겼다.1세트에서 둘이 나란히 10점 두 발과 9점을 쏴 세트 점수 1점씩 나눠가졌다. 임시현은 2세트에도 9점 뒤 10점 두 발을 쐈고 남수현이 두번째 슛에서 7점을 맞히면서 임시현이 앞서 갔다.임시현은 3세트에서는 3발을 모두 10점으로 맞혀 따냈고, 4세트에서는 10점-9점-10점을 쐈으나 이번에는 남수현이 10점 3발을 쏴 세트 점수 2점을 가져갔다.5-3으로 임시현이 앞선 채 이어진 5세트에서 임시현이 첫 발에 10점을 쏘고 남수현이 8점을 쐈다. 두번째 화살에는 임시현이 8점, 남수현이 10점을 쐈다. 동률 상태에서 마지막 한 발이 남았고 임시현이 10점을 넣은 뒤 남수현이 8점을 넣으면서 임시현이 금메달, 남수현의 은메달이 확정됐다.4강전에서 임시현에게 져 동메달 결정전으로 향한 전훈영은 프랑스 리사 바벨랭과 접전 끝에 세트 점수 4-6으로 져 메달 획득에는 실패했다.한국은 이로써 여자 단체전, 남자 단체전, 혼성 단체전에 이어 여자 개인전까지 양궁에 5개 걸린 금메달 중 4개를 쓸어담았다. 4일에는 남자 개인전이 열린다.',\n",
       " 'reaction': {'analytical': 1,\n",
       "  'useful': 1,\n",
       "  'wow': 3,\n",
       "  'touched': 21,\n",
       "  'recommend': 2},\n",
       " 'comments': ['전훈영 여단체 10.10.10 동생들 이끌며 금메달 주역 이었는데..\\n개인전 최소 은메달 감인데 아쉽다.',\n",
       "  '이번 경기장 바람 상태 최악중의 최악이었는데 한국 저력이 놀랍다',\n",
       "  '',\n",
       "  '장하다!!!!!!',\n",
       "  '내마음속 1등은 단체전 1등공신 전훈영이다!',\n",
       "  '전훈영 동메달 따서 태극기 3개 걸렸으면 대박이었는데 아쉽다... 그래도 대한민국 양궁은 최강이다',\n",
       "  '진짜 소름 돋게 잘하네요',\n",
       "  '주몽의 후예 자랑스럽겠지? 오랑캐들아  ? 동북공정 그만해라',\n",
       "  '올림픽 선수들 항상 화이팅!!  이번 파리 올림픽은 개인적으로는 사는 게 힘들어서 예전처럼 열성적으로 시청하거나 응원하지 못해서  다시보기 위주로 봤는데요.  경기 마다  선수들 너무 멋지더라고요!!   남은 기간 시합 남은 분들도  힘내고 아자아자 화이팅!',\n",
       "  '전훈영님도 메달권에는 들지 못해 아쉽지만 올림픽 준비 하시느라 고생 많았습니다. 양궁여제 분들 모두 축하해요~',\n",
       "  '이런 사기같은 일이!!',\n",
       "  '정치권의 🐕수작 짓거리에 짜증ㆍ분노 한방에 날려주는 유쾌, 상쾌. 통쾌!!!!! 마지막 한 개의 메달, 남자 개인전까지 순~삭 기원. 그 마지막 한발 퍼펙트 텐을 여의도 국🐕  로탠더홀 정중앙 천장에 🐕 양아치들 핵심 한 50명을 원샷에 꿰뚫어 꽂아넣길 기원합니다, 홧띵팅팅~♡♡♡',\n",
       "  '호남인들 가운데 명궁 명사수가 많다.. 다가올 미래에 친일매국노들의 본거지인 대구 영남을 손보기위해, 우리 젊은 꿈나무들이 기량을 쌓아가고 있다.. 윤완용, 너 조심해...',\n",
       "  '개인전에서 몸이 풀린듯',\n",
       "  '',\n",
       "  '대한민국을 빛내고 있는 선수분들 패하신 모든분들도 수고들 많으십니다. 남은 경기도 최선을 다해 주시기 바랍니다',\n",
       "  '전훈영이나 남수현이 금메달이었으면 하는 개인적 바램이 있었는데 아쉽게 됐네요. 임시현 3관왕 축하드립니다',\n",
       "  '',\n",
       "  '모두  추카 , 추카 !!   ♡♡',\n",
       "  '쩍발이 떼넘들 대한민국 건들면 화살이 대가리에 팍 꽂힌다.']}"
      ]
     },
     "execution_count": 7,
     "metadata": {},
     "output_type": "execute_result"
    }
   ],
   "source": [
    "import json\n",
    "\n",
    "comment_url = 'https://apis.naver.com/commentBox/cbox/web_naver_list_jsonp.json?ticket=news&templateId=default_world&pool=cbox5&_cv=20240719172738&lang=ko&country=KR&objectId=news032%2C0003312694&categoryId=&pageSize=20&indexSize=10&groupId=&listType=OBJECT&pageType=more&page=1&initialize=true&followSize=5&userType=&useAltSort=true&replyPageSize=20&sort=FAVORITE&includeAllStatus=true&_=172270577362'\n",
    "headers = {\n",
    "    'referer':'https://n.news.naver.com/mnews/article/comment/032/0003312684',\n",
    "    'sec-ch-ua':'\"Not)A;Brand\";v=\"99\", \"Google Chrome\";v=\"127\", \"Chromium\";v=\"127\"',\n",
    "    'sec-ch-ua-mobile':'?0',\n",
    "    'sec-ch-ua-platform':'\"Windows\"',\n",
    "    'sec-fetch-dest':'script',\n",
    "    'sec-fetch-mode':'no-cors',\n",
    "    'sec-fetch-site':'same-site',\n",
    "    'user-agent':'Mozilla/5.0 (Windows NT 10.0; Win64; x64) AppleWebKit/537.36 (KHTML, like Gecko) Chrome/127.0.0.0 Safari/537.36'\n",
    "}\n",
    "\n",
    "comment_response = requests.get(comment_url, headers=headers)\n",
    "comment_response = comment_response.text.replace('_callback(', '')[:-2] # 필요없는 요소 제거\n",
    "\n",
    "\n",
    "comments = json.loads(comment_response)['result']['commentList'] # json포맷으로 변형 및 댓글 list 모두 갖고오기\n",
    "\n",
    "\n",
    "for comment in comments:\n",
    "    print(comment['contents']) # 댓글 한 개씪 갖고오기\n",
    "\n",
    "    news['comments'].append(comment['contents'])\n",
    "\n",
    "news"
   ]
  },
  {
   "cell_type": "markdown",
   "metadata": {
    "id": "HQIqVBbEHd__"
   },
   "source": [
    "## 4.4 json파일로 저장"
   ]
  },
  {
   "cell_type": "code",
   "execution_count": null,
   "metadata": {
    "id": "bzYTmHHkHd__"
   },
   "outputs": [],
   "source": [
    "import os\n",
    "# 현재 스크립트 파일이 있는 디렉토리 경로를 얻음\n",
    "current_dir = os.path.dirname(os.path.abspath('web_13_teacher.ipynb'))\n",
    "\n",
    "# 저장할 JSON 파일의 경로 설정\n",
    "json_file_path = os.path.join(current_dir, 'news_data_4.json')\n",
    "# json_file_path\n",
    "with open(json_file_path, 'w', encoding='utf-8') as json_file:\n",
    "    json.dump(news, json_file, ensure_ascii=False)"
   ]
  },
  {
   "cell_type": "markdown",
   "metadata": {
    "id": "0OM07x-CHd__"
   },
   "source": [
    "- 다시 파이썬 객체로 불러오기"
   ]
  },
  {
   "cell_type": "code",
   "execution_count": null,
   "metadata": {
    "id": "BD1LMuOSHd__",
    "outputId": "6c5505f5-3fa2-484c-a4c7-1c506319b7ce"
   },
   "outputs": [
    {
     "data": {
      "text/plain": [
       "{'title': '임시현, ‘3관왕’ 달성···남수현 은메달까지, 한국 女 개인전도 쓸었다',\n",
       " 'body': '임시현(오른쪽)이 3일 파리올림픽 양궁 여자 개인전 결승에서 승리해 금메달을 확정한 뒤 남수현과 끌어안고 기뻐하고 있다. 파리 | 로이터연합뉴스임시현(21)이 2024 파리올림픽에서 3관왕에 올랐다.임시현은 3일 프랑스 파리 앵발리드에서 열린 2024 파리올림픽 양궁 여자 개인전 결승에서 남수현(19)과 대결, 세트점수 7-3으로 승리했다.앞서 여자 단체전 금메달에 이어 2일 김우진과 함께 혼성 단체전 금메달을 딴 임시현은 여자 개인전까지 우승하면서 3개의 금메달을 쓸어담았다. 혼성 단체전이 도입된 2020 도쿄올림픽에서 안산에 이어 이번 대회에서도 한국 선수 임시현이 3관왕을 차지했다.더불어 한국 여자 양궁은 2012년 런던올림픽(기보배)부터 2016년 리우데자네이루 올림픽(장혜진), 2021년 도쿄올림픽(안산)에 이어 2024년 파리올림픽의 임시현이 우승하면서 개인전 4연패를 달성했다.임시현은 4강과 결승전에서 모두 한국 선수와 대결했다. 한국 선수 3명이 나란히 4강에 진출하면서 대진상 임시현이 전훈영과 4강에서 만났고 세트 점수 6-4로 승리하고 결승에 나갔다. 프랑스 선수를 꺾고 결승에 올라온 남수현과 치른 결승전에서는 접전 끝에 세트 점수 7-3으로 이겼다.1세트에서 둘이 나란히 10점 두 발과 9점을 쏴 세트 점수 1점씩 나눠가졌다. 임시현은 2세트에도 9점 뒤 10점 두 발을 쐈고 남수현이 두번째 슛에서 7점을 맞히면서 임시현이 앞서 갔다.임시현은 3세트에서는 3발을 모두 10점으로 맞혀 따냈고, 4세트에서는 10점-9점-10점을 쐈으나 이번에는 남수현이 10점 3발을 쏴 세트 점수 2점을 가져갔다.5-3으로 임시현이 앞선 채 이어진 5세트에서 임시현이 첫 발에 10점을 쏘고 남수현이 8점을 쐈다. 두번째 화살에는 임시현이 8점, 남수현이 10점을 쐈다. 동률 상태에서 마지막 한 발이 남았고 임시현이 10점을 넣은 뒤 남수현이 8점을 넣으면서 임시현이 금메달, 남수현의 은메달이 확정됐다.4강전에서 임시현에게 져 동메달 결정전으로 향한 전훈영은 프랑스 리사 바벨랭과 접전 끝에 세트 점수 4-6으로 져 메달 획득에는 실패했다.한국은 이로써 여자 단체전, 남자 단체전, 혼성 단체전에 이어 여자 개인전까지 양궁에 5개 걸린 금메달 중 4개를 쓸어담았다. 4일에는 남자 개인전이 열린다.',\n",
       " 'reaction': {'analytical': 0,\n",
       "  'useful': 1,\n",
       "  'wow': 3,\n",
       "  'touched': 9,\n",
       "  'recommend': 1},\n",
       " 'comments': ['전훈영 여단체 10.10.10 동생들 이끌며 금메달 주역 이었는데..\\n개인전 최소 은메달 감인데 아쉽다.',\n",
       "  '이번 경기장 바람 상태 최악중의 최악이었는데 한국 저력이 놀랍다',\n",
       "  '최종병기,,활의 민족입니다.',\n",
       "  '장하다!!!!!!',\n",
       "  '내마음속 1등은 단체전 1등공신 전훈영이다!',\n",
       "  '전훈영 동메달 따서 태극기 3개 걸렸으면 대박이었는데 아쉽다... 그래도 대한민국 양궁은 최강이다',\n",
       "  '진짜 소름 돋게 잘하네요',\n",
       "  '주몽의 후예 자랑스럽겠지? 오랑캐들아  ? 동북공정 그만해라',\n",
       "  '올림픽 선수들 항상 화이팅!!  이번 파리 올림픽은 개인적으로는 사는 게 힘들어서 예전처럼 열성적으로 시청하거나 응원하지 못해서  다시보기 위주로 봤는데요.  경기 마다  선수들 너무 멋지더라고요!!   남은 기간 시합 남은 분들도  힘내고 아자아자 화이팅!',\n",
       "  '전훈영님도 메달권에는 들지 못해 아쉽지만 올림픽 준비 하시느라 고생 많았습니다. 양궁여제 분들 모두 축하해요~',\n",
       "  '이런 사기같은 일이!!',\n",
       "  '정치권의 🐕수작 짓거리에 짜증ㆍ분노 한방에 날려주는 유쾌, 상쾌. 통쾌!!!!! 마지막 한 개의 메달, 남자 개인전까지 순~삭 기원. 그 마지막 한발 퍼펙트 텐을 여의도 국🐕  로탠더홀 정중앙 천장에 🐕 양아치들 핵심 한 50명을 원샷에 꿰뚫어 꽂아넣길 기원합니다, 홧띵팅팅~♡♡♡',\n",
       "  '호남인들 가운데 명궁 명사수가 많다.. 다가올 미래에 친일매국노들의 본거지인 대구 영남을 손보기위해, 우리 젊은 꿈나무들이 기량을 쌓아가고 있다.. 윤완용, 너 조심해...',\n",
       "  '개인전에서 몸이 풀린듯',\n",
       "  '동메달 날린 그 선수는 뭐냐? 잡아다 고문하고 계좌추적, 청문회 개최해라.',\n",
       "  '대한민국을 빛내고 있는 선수분들 패하신 모든분들도 수고들 많으십니다. 남은 경기도 최선을 다해 주시기 바랍니다',\n",
       "  '전훈영이나 남수현이 금메달이었으면 하는 개인적 바램이 있었는데 아쉽게 됐네요. 임시현 3관왕 축하드립니다',\n",
       "  '어 금 코. 어차피 금메달은  코리아  화이팅!',\n",
       "  '모두  추카 , 추카 !!   ♡♡',\n",
       "  '쩍발이 떼넘들 대한민국 건들면 화살이 대가리에 팍 꽂힌다.']}"
      ]
     },
     "execution_count": 238,
     "metadata": {},
     "output_type": "execute_result"
    }
   ],
   "source": [
    "with open('news_data.json', 'r') as json_file:\n",
    "    result = json.load(json_file)\n",
    "\n",
    "result"
   ]
  },
  {
   "cell_type": "markdown",
   "metadata": {
    "id": "-JFUzmPJHeAA"
   },
   "source": [
    "- 완성본은 pythom 스크립트 파일 참고"
   ]
  },
  {
   "cell_type": "markdown",
   "metadata": {
    "id": "84sxAMqVHeAA"
   },
   "source": [
    "# 실습4 최종 코드"
   ]
  },
  {
   "cell_type": "code",
   "execution_count": null,
   "metadata": {
    "id": "wPUECkSwHeAA"
   },
   "outputs": [],
   "source": [
    "import requests\n",
    "import json\n",
    "from bs4 import BeautifulSoup\n",
    "\n",
    "# 에러 뜨면 헤더 집어넣기\n",
    "headers = {\n",
    "    'user-agent':'Mozilla/5.0 (Windows NT 10.0; Win64; x64) AppleWebKit/537.36 (KHTML, like Gecko) Chrome/127.0.0.0 Safari/537.36'\n",
    "}\n",
    "\n",
    "response = requests.get('https://n.news.naver.com/mnews/article/032/0003312694', headers=headers)\n",
    "\n",
    "soup = BeautifulSoup(response.text, 'html.parser')\n",
    "\n",
    "#------------------------------------------------- 기사 제목, 내용 ------------------------------------\n",
    "title = soup.select_one('#title_area span').text.strip()\n",
    "body = soup.select_one('article#dic_area').text.strip()\n",
    "\n",
    "# dicionary형태로 만들어 놓기\n",
    "news = dict(\n",
    "    title=title,\n",
    "    body=body,\n",
    "    reactions={\n",
    "        # 리액션 타입 확인하고 key 작성하기\n",
    "        'analytical': 0,\n",
    "        'useful': 0,\n",
    "        'wow': 0,\n",
    "        'touched': 0,\n",
    "        'recommend': 0\n",
    "    },\n",
    "    comments = []\n",
    "    )\n",
    "\n",
    "\n",
    "#------------------------------------------------- 사람들 반응  ------------------------------------\n",
    "# url에서 jQuery에 해당하는부분 삭제하기\n",
    "reaction_response = requests.get('https://news.like.naver.com/v1/search/contents?suppress_response_codes=true&q=NEWS%5Bne_032_0003312694%5D&isDuplication=false&cssIds=MULTI_MOBILE%2CNEWS_MOBILE&_=1722702074749')\n",
    "print(type(reaction_response.json()))\n",
    "# print(reaction_response.json()) # 잘 불러와짐을 확인\n",
    "\n",
    "# json에서 사람들 반응에 해당하는 부분 for문으로 확인 해보기\n",
    "reactions = reaction_response.json()['contents'][0]['reactions']\n",
    "# reactions[0]\n",
    "for react in reactions:\n",
    "    type = react['reactionType'] # 이부분만 나중에 쓰면 됨\n",
    "    desc = react['reactionTypeCode']['description']\n",
    "    count = react['count']\n",
    "\n",
    "    # print(dict(reaction=reaction, describe=desc, count=count)) # 확인\n",
    "\n",
    "    news['reactions'][type] = count  # news에 넣어주기\n",
    "\n",
    "\n",
    "#------------------------------------------------- 댓글  ------------------------------------\n",
    "\n",
    "comment_url = 'https://apis.naver.com/commentBox/cbox/web_naver_list_jsonp.json?ticket=news&templateId=default_world&pool=cbox5&_cv=20240719172738&lang=ko&country=KR&objectId=news032%2C0003312694&categoryId=&pageSize=20&indexSize=10&groupId=&listType=OBJECT&pageType=more&page=1&initialize=true&followSize=5&userType=&useAltSort=true&replyPageSize=20&sort=FAVORITE&includeAllStatus=true&_=172270577362'\n",
    "headers = {\n",
    "    'referer':'https://n.news.naver.com/mnews/article/comment/032/0003312684',\n",
    "    'sec-ch-ua':'\"Not)A;Brand\";v=\"99\", \"Google Chrome\";v=\"127\", \"Chromium\";v=\"127\"',\n",
    "    'sec-ch-ua-mobile':'?0',\n",
    "    'sec-ch-ua-platform':'\"Windows\"',\n",
    "    'sec-fetch-dest':'script',\n",
    "    'sec-fetch-mode':'no-cors',\n",
    "    'sec-fetch-site':'same-site',\n",
    "    'user-agent':'Mozilla/5.0 (Windows NT 10.0; Win64; x64) AppleWebKit/537.36 (KHTML, like Gecko) Chrome/127.0.0.0 Safari/537.36'\n",
    "}\n",
    "\n",
    "comment_response = requests.get(comment_url, headers=headers)\n",
    "# print(comment_response.text) # 확인\n",
    "comment_response = comment_response.text.replace('_callback(', '')[:-2] # 필요없는 요소 제거\n",
    "\n",
    "\n",
    "comments = json.loads(comment_response)['result']['commentList'] # json포맷으로 변형 및 댓글 내용(리스트) 모두 담기\n",
    "\n",
    "# 댓글 한 개씩 뽑아보기\n",
    "for comment in comments:\n",
    "    # print(comment['contents'])\n",
    "\n",
    "    news['comments'].append(comment['contents'])\n",
    "\n",
    "# print(news) # 확인\n",
    "\n",
    "\n",
    "\n",
    "#------------------------------------------------- json 파일로 저장 ------------------------------------\n",
    "\n",
    "# with open('new_dat_2.json', 'w', encoding='utf-8') as json_file:\n",
    "#     json.dump(news, json_file, ensure_ascii=False)\n",
    "\n",
    "import os\n",
    "# 현재 디렉토리 경로를 얻음\n",
    "current_dir = os.getcwd()\n",
    "\n",
    "# 저장할 JSON 파일의 경로 설정\n",
    "json_file_path = os.path.join(current_dir, 'web3_bs4/forTeacher/Ansynchronous/news_data_5.json')\n",
    "print(json_file_path)\n",
    "\n",
    "# json_file_path\n",
    "with open(json_file_path, 'w', encoding='utf-8') as json_file:\n",
    "    json.dump(news, json_file, ensure_ascii=False)"
   ]
  }
 ],
 "metadata": {
  "colab": {
   "provenance": []
  },
  "kernelspec": {
   "display_name": "sesac",
   "language": "python",
   "name": "python3"
  },
  "language_info": {
   "codemirror_mode": {
    "name": "ipython",
    "version": 3
   },
   "file_extension": ".py",
   "mimetype": "text/x-python",
   "name": "python",
   "nbconvert_exporter": "python",
   "pygments_lexer": "ipython3",
   "version": "3.10.15"
  }
 },
 "nbformat": 4,
 "nbformat_minor": 0
}
