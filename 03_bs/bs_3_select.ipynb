{
 "cells": [
  {
   "cell_type": "markdown",
   "metadata": {},
   "source": [
    "# select로 크롤링하기 "
   ]
  },
  {
   "cell_type": "markdown",
   "metadata": {},
   "source": [
    "## 1. 종류"
   ]
  },
  {
   "cell_type": "markdown",
   "metadata": {},
   "source": [
    "### 1.1 soup.select('css_selector')\n",
    "- 해당되는 태그는 모두 갖고와서 list로 return\n",
    "- html에서 태그를 찾기"
   ]
  },
  {
   "cell_type": "code",
   "execution_count": 1,
   "metadata": {},
   "outputs": [
    {
     "name": "stdout",
     "output_type": "stream",
     "text": [
      "<class 'bs4.element.ResultSet'>\n",
      "[<p id=\"hello\">\n",
      "    이탈리아 요리의 시작은 기원전 4세기로 거슬러 올라갈 수 있다. 대항해시대를 거치면서 아메리카 대륙에서 감자·토마토·후추·옥수수 등이 유입되어 그 종류와 풍미가 다양해졌고 현대에 이르러서는 피자와 파스타 등 많은 이탈리아 요리가 널리 퍼지게 되었다.\n",
      "</p>, <p id=\"cook\">\n",
      "    전통적인 요리법이나 양식은 상당한 차이가 있지만, 이탈리아 요리는 다른 국가의 요리 문화에서 다양한 영감을 줄 만큼 다양하고 혁신적인 것으로 평가되고 있다. 각 지방마다 고유의 특색이 있어 그 양식도 다양하지만 크게 북부와 남부로 나눌 수 있다. 다른 나라와 국경을 맞대고 있던 북부 지방은 산업화되어 경제적으로 풍족하고 농업이 발달해 쌀이 풍부해 유제품이 다양한 반면 경제적으로 침체되었던 남부 지방은 올리브와 토마토, 모차렐라 치즈가 유명하고 특별히 해산물을 활용한 요리가 많다. 식재료와 치즈 등의 차이는 파스타의 종류와 소스와 수프 등도 다름을 의미한다.\n",
      "</p>]\n"
     ]
    }
   ],
   "source": [
    "import requests\n",
    "from bs4 import BeautifulSoup\n",
    "\n",
    "response = requests.get('https://crawlingstudy-dd3c9.web.app/01/')\n",
    "soup = BeautifulSoup(response.text, 'html.parser')\n",
    "\n",
    "p_tags = soup.select('p')\n",
    "\n",
    "print(type(p_tags))\n",
    "print(p_tags)"
   ]
  },
  {
   "cell_type": "code",
   "execution_count": 5,
   "metadata": {},
   "outputs": [
    {
     "name": "stdout",
     "output_type": "stream",
     "text": [
      "2\n",
      "<p id=\"hello\">\n",
      "    이탈리아 요리의 시작은 기원전 4세기로 거슬러 올라갈 수 있다. 대항해시대를 거치면서 아메리카 대륙에서 감자·토마토·후추·옥수수 등이 유입되어 그 종류와 풍미가 다양해졌고 현대에 이르러서는 피자와 파스타 등 많은 이탈리아 요리가 널리 퍼지게 되었다.\n",
      "</p>\n",
      "<class 'bs4.element.ResultSet'>\n"
     ]
    }
   ],
   "source": [
    "print(len(p_tags))\n",
    "print(p_tags[0])\n",
    "print(type(p_tags))"
   ]
  },
  {
   "cell_type": "markdown",
   "metadata": {},
   "source": [
    "- tag에서 tag 찾기"
   ]
  },
  {
   "cell_type": "code",
   "execution_count": null,
   "metadata": {},
   "outputs": [
    {
     "name": "stdout",
     "output_type": "stream",
     "text": [
      "1\n",
      "------------------------\n",
      "[<table border=\"1\">\n",
      "<thead>\n",
      "<tr>\n",
      "<th class=\"tablehead\">이름</th>\n",
      "<th class=\"tablehead\">나이</th>\n",
      "</tr>\n",
      "</thead>\n",
      "<tbody>\n",
      "<tr>\n",
      "<td>이몽룡</td>\n",
      "<td>34</td>\n",
      "</tr>\n",
      "<tr>\n",
      "<td>홍길동</td>\n",
      "<td>23</td>\n",
      "</tr>\n",
      "</tbody>\n",
      "</table>]\n"
     ]
    }
   ],
   "source": [
    "#1.table 태그 가져오기     ->   html에서 태그 찾는 방법\n",
    "\n",
    "table_tags = soup.select('table')  # return값 : list  (html에서 태그 찾기)\n",
    "\n",
    "print(len(table_tags))\n",
    "\n",
    "print('------------------------')\n",
    "\n",
    "print(table_tags)"
   ]
  },
  {
   "cell_type": "code",
   "execution_count": null,
   "metadata": {},
   "outputs": [
    {
     "name": "stdout",
     "output_type": "stream",
     "text": [
      "<class 'bs4.element.ResultSet'>\n",
      "------------------------\n",
      "[<tr>\n",
      "<th class=\"tablehead\">이름</th>\n",
      "<th class=\"tablehead\">나이</th>\n",
      "</tr>, <tr>\n",
      "<td>이몽룡</td>\n",
      "<td>34</td>\n",
      "</tr>, <tr>\n",
      "<td>홍길동</td>\n",
      "<td>23</td>\n",
      "</tr>]\n",
      "------------------------\n",
      "3\n"
     ]
    }
   ],
   "source": [
    "# 2. table tag에서 tr태그를 갖고오기   -> tag에서 tag 찾는 방법 \n",
    "\n",
    "tr_tags = table_tags[0].select('tr')\n",
    "\n",
    "print(type(tr_tags))\n",
    "\n",
    "print('------------------------')\n",
    "\n",
    "print(tr_tags)\n",
    "\n",
    "print('------------------------')\n",
    "\n",
    "print(len(tr_tags))"
   ]
  },
  {
   "cell_type": "code",
   "execution_count": 14,
   "metadata": {},
   "outputs": [
    {
     "name": "stdout",
     "output_type": "stream",
     "text": [
      "<class 'bs4.element.ResultSet'>\n",
      "[]\n",
      "0\n"
     ]
    }
   ],
   "source": [
    "td_tags = tr_tags[0].select('td')\n",
    "\n",
    "print(type(td_tags))\n",
    "\n",
    "print(td_tags)\n",
    "\n",
    "print(len(td_tags))"
   ]
  },
  {
   "cell_type": "markdown",
   "metadata": {},
   "source": [
    "### 1.2 soup.select_one('css_selector')\n",
    "- 해당되는 태그 중 가장 첫 번째 태그만 return \n",
    "- list에 묶이지 않고 태그를 바로 return해줌 \n",
    "- html에서 태그 찾기 "
   ]
  },
  {
   "cell_type": "code",
   "execution_count": null,
   "metadata": {},
   "outputs": [
    {
     "name": "stdout",
     "output_type": "stream",
     "text": [
      "<class 'bs4.element.Tag'>\n",
      "<p id=\"hello\">\n",
      "    이탈리아 요리의 시작은 기원전 4세기로 거슬러 올라갈 수 있다. 대항해시대를 거치면서 아메리카 대륙에서 감자·토마토·후추·옥수수 등이 유입되어 그 종류와 풍미가 다양해졌고 현대에 이르러서는 피자와 파스타 등 많은 이탈리아 요리가 널리 퍼지게 되었다.\n",
      "</p>\n"
     ]
    }
   ],
   "source": [
    "#1. html에서 태그찾기\n",
    "\n",
    "# p 태그 갖고오기\n",
    "import requests\n",
    "from bs4 import BeautifulSoup\n",
    "\n",
    "response = requests.get('https://crawlingstudy-dd3c9.web.app/01/')\n",
    "soup = BeautifulSoup(response.text, 'html.parser')    #soup: 구조와된 html\n",
    "\n",
    "p_tags = soup.select_one('p')\n",
    "\n",
    "print(type(p_tags))\n",
    "print(p_tags)"
   ]
  },
  {
   "cell_type": "markdown",
   "metadata": {},
   "source": [
    "- tag에서 tag찾기 "
   ]
  },
  {
   "cell_type": "code",
   "execution_count": 17,
   "metadata": {},
   "outputs": [
    {
     "name": "stdout",
     "output_type": "stream",
     "text": [
      "<table border=\"1\">\n",
      "<thead>\n",
      "<tr>\n",
      "<th class=\"tablehead\">이름</th>\n",
      "<th class=\"tablehead\">나이</th>\n",
      "</tr>\n",
      "</thead>\n",
      "<tbody>\n",
      "<tr>\n",
      "<td>이몽룡</td>\n",
      "<td>34</td>\n",
      "</tr>\n",
      "<tr>\n",
      "<td>홍길동</td>\n",
      "<td>23</td>\n",
      "</tr>\n",
      "</tbody>\n",
      "</table>\n"
     ]
    }
   ],
   "source": [
    "#1 html에서 table 태그 찾기        ..  .. select 와 select_one 차이 구분\n",
    "\n",
    "import requests\n",
    "from bs4 import BeautifulSoup\n",
    "\n",
    "response = requests.get('https://crawlingstudy-dd3c9.web.app/01/')\n",
    "soup = BeautifulSoup(response.text, 'html.parser') \n",
    "\n",
    "table_tags = soup.select_one('table')\n",
    "\n",
    "print(table_tags)"
   ]
  },
  {
   "cell_type": "code",
   "execution_count": 20,
   "metadata": {},
   "outputs": [
    {
     "name": "stdout",
     "output_type": "stream",
     "text": [
      "<tr>\n",
      "<th class=\"tablehead\">이름</th>\n",
      "<th class=\"tablehead\">나이</th>\n",
      "</tr>\n"
     ]
    }
   ],
   "source": [
    "#2 태그에서 태그찾기\n",
    "tr_tags = table_tags.select_one('tr')\n",
    "print(tr_tags)"
   ]
  },
  {
   "cell_type": "markdown",
   "metadata": {},
   "source": [
    "## 2. css선택자로 태그 갖고오기 "
   ]
  },
  {
   "cell_type": "markdown",
   "metadata": {},
   "source": [
    "### 2.1 id 셀렉터로 태그 갖고오기 \n",
    "- div태그가 여러개 이니깐 id로 원하는 div태그만 갖고올 수 있음 "
   ]
  },
  {
   "cell_type": "code",
   "execution_count": 24,
   "metadata": {},
   "outputs": [
    {
     "name": "stdout",
     "output_type": "stream",
     "text": [
      "[<div class=\"bold blue\" id=\"title\">\n",
      "        안녕하세요 \n",
      "    </div>]\n",
      "------------------------------------------------------------------------------------------\n",
      "[<div class=\"bold blue\" id=\"title\">\n",
      "        안녕하세요 \n",
      "    </div>]\n"
     ]
    }
   ],
   "source": [
    "import requests\n",
    "from bs4 import BeautifulSoup\n",
    "\n",
    "response = requests.get('https://crawlingstudy-dd3c9.web.app/02/')\n",
    "soup = BeautifulSoup(response.text, 'html.parser')\n",
    "\n",
    "# id=title 인 태그 갖고오기\n",
    "title_list = soup.select('#title')\n",
    "title = soup.select('#title')\n",
    "\n",
    "print(title_list)\n",
    "print('---'*30)\n",
    "print(title)"
   ]
  },
  {
   "cell_type": "code",
   "execution_count": null,
   "metadata": {},
   "outputs": [],
   "source": []
  },
  {
   "cell_type": "code",
   "execution_count": null,
   "metadata": {},
   "outputs": [],
   "source": []
  },
  {
   "cell_type": "code",
   "execution_count": null,
   "metadata": {},
   "outputs": [],
   "source": []
  },
  {
   "cell_type": "markdown",
   "metadata": {},
   "source": [
    "### 2.2 class 셀렉터로 태그 갖고오기 "
   ]
  },
  {
   "cell_type": "code",
   "execution_count": null,
   "metadata": {},
   "outputs": [
    {
     "name": "stdout",
     "output_type": "stream",
     "text": [
      "[<div class=\"bold\" id=\"content\">\n",
      "<ul>\n",
      "<li>첫번쨰리스트</li>\n",
      "<li class=\"blue\">두번째리스트</li>\n",
      "<li class=\"blue\">세번째리스트</li>\n",
      "<li>네번째리스트</li>\n",
      "</ul>\n",
      "</div>]\n",
      "1\n",
      "--------------------------------------------------\n",
      "<div class=\"bold\" id=\"content\">\n",
      "<ul>\n",
      "<li>첫번쨰리스트</li>\n",
      "<li class=\"blue\">두번째리스트</li>\n",
      "<li class=\"blue\">세번째리스트</li>\n",
      "<li>네번째리스트</li>\n",
      "</ul>\n",
      "</div>\n",
      "3\n"
     ]
    }
   ],
   "source": [
    "# id = content 태그 들고오기\n",
    "# select, select_one 두가지 방법 다 써보기\n",
    "\n",
    "import requests\n",
    "from bs4 import BeautifulSoup\n",
    "\n",
    "div_list = soup.select('#content')\n",
    "response = requests.get('https://crawlingstudy-dd3c9.web.app/02/')\n",
    "soup = BeautifulSoup(response.text, 'html.parser')\n",
    "\n",
    "div_tag = soup.select_one('#content')\n",
    "\n",
    "print(div_list)\n",
    "print(len(div_list))\n",
    "\n",
    "print('-'*50)\n",
    "\n",
    "print(div_tag)\n",
    "print(len(div_tag))\n"
   ]
  },
  {
   "cell_type": "markdown",
   "metadata": {},
   "source": [
    "### 2.2.1 div_list에서 select와 select_one으로 class=blue 인 li태그 갖고오기"
   ]
  },
  {
   "cell_type": "code",
   "execution_count": 22,
   "metadata": {},
   "outputs": [
    {
     "name": "stdout",
     "output_type": "stream",
     "text": [
      "[<li class=\"blue\">두번째리스트</li>, <li class=\"blue\">세번째리스트</li>]\n",
      "<li class=\"blue\">두번째리스트</li>\n"
     ]
    }
   ],
   "source": [
    "li_list= div_list[0].select('.blue')\n",
    "print(li_list)\n",
    "\n",
    "li_tag = div_list[0].select_one('.blue')\n",
    "print(li_tag)"
   ]
  },
  {
   "cell_type": "markdown",
   "metadata": {},
   "source": [
    "### 2.2.1 div_tag에서 select와 select_one으로 class=blue 인 li태그 갖고오기"
   ]
  },
  {
   "cell_type": "code",
   "execution_count": 24,
   "metadata": {},
   "outputs": [
    {
     "name": "stdout",
     "output_type": "stream",
     "text": [
      "[<li class=\"blue\">두번째리스트</li>, <li class=\"blue\">세번째리스트</li>]\n",
      "<li class=\"blue\">두번째리스트</li>\n"
     ]
    }
   ],
   "source": [
    "li_list= div_tag.select('.blue')\n",
    "print(li_list)\n",
    "\n",
    "li_tag = div_tag.select_one('.blue')\n",
    "print(li_tag)"
   ]
  },
  {
   "cell_type": "markdown",
   "metadata": {},
   "source": [
    "### 2.3 속성 셀렉터로 태그 갖고오기 \n",
    "- tag[속성~ = ”값”] : 해당 단어와 일치 \n",
    "- tag[속성^ = ”값”] : 해당 값으로 시작\t\n",
    "- tag[속성$ = ”값”] : 해당 값으로 끝나는\t\n",
    "- tag[속성* = ”값”] : 해당 값을 포함하는\n"
   ]
  },
  {
   "cell_type": "code",
   "execution_count": 26,
   "metadata": {},
   "outputs": [
    {
     "data": {
      "text/plain": [
       "[<a href=\"http://naver.com\" target=\"_blank\">네이버</a>,\n",
       " <a href=\"http://daum.net\" target=\"_self\">다음</a>,\n",
       " <a href=\"http://google.com\" target=\"_self\">구글</a>]"
      ]
     },
     "execution_count": 26,
     "metadata": {},
     "output_type": "execute_result"
    }
   ],
   "source": [
    "# a 태크 갖고오기\n",
    "\n",
    "import requests\n",
    "from bs4 import BeautifulSoup\n",
    "\n",
    "response = requests.get('https://crawlingstudy-dd3c9.web.app/02/')\n",
    "soup = BeautifulSoup(response.text, 'html.parser')\n",
    "\n",
    "a_list = soup.select('a')\n",
    "a_list"
   ]
  },
  {
   "cell_type": "code",
   "execution_count": 29,
   "metadata": {},
   "outputs": [
    {
     "data": {
      "text/plain": [
       "<a href=\"http://naver.com\" target=\"_blank\">네이버</a>"
      ]
     },
     "execution_count": 29,
     "metadata": {},
     "output_type": "execute_result"
    }
   ],
   "source": [
    "# naver\n",
    "\n",
    "a_naver = soup.select_one('[href=\"http://naver.com\"]')\n",
    "a_naver"
   ]
  },
  {
   "cell_type": "code",
   "execution_count": 36,
   "metadata": {},
   "outputs": [
    {
     "name": "stdout",
     "output_type": "stream",
     "text": [
      "<a href=\"http://daum.net\" target=\"_self\">다음</a>\n",
      "<a href=\"http://daum.net\" target=\"_self\">다음</a>\n"
     ]
    }
   ],
   "source": [
    "# .net으로 끝나는 a 태그 갖고오기\n",
    "\n",
    "a_net1 = soup.select_one('[href$=\".net\"]')\n",
    "print(a_net1)\n",
    "a_net2 = soup.select_one('[href*=\".net\"]')\n",
    "print(a_net2)"
   ]
  },
  {
   "cell_type": "code",
   "execution_count": 39,
   "metadata": {},
   "outputs": [
    {
     "name": "stdout",
     "output_type": "stream",
     "text": [
      "[<a href=\"http://naver.com\" target=\"_blank\">네이버</a>]\n",
      "<a href=\"http://naver.com\" target=\"_blank\">네이버</a>\n"
     ]
    }
   ],
   "source": [
    "# target='_blank' 으로 끝나는 태그 갖고오기\n",
    "\n",
    "target_list =soup.select('[target=\"_blank\"]')\n",
    "target_list2 =soup.select_one('[target=\"_blank\"]')\n",
    "\n",
    "print(target_list)\n",
    "print(target_list2)"
   ]
  },
  {
   "cell_type": "code",
   "execution_count": null,
   "metadata": {},
   "outputs": [],
   "source": []
  },
  {
   "cell_type": "markdown",
   "metadata": {},
   "source": [
    "### 2.4 후손 셀렉터로 태그 갖고오기 "
   ]
  },
  {
   "cell_type": "code",
   "execution_count": 41,
   "metadata": {},
   "outputs": [
    {
     "name": "stdout",
     "output_type": "stream",
     "text": [
      "[<li>첫번쨰리스트</li>, <li class=\"blue\">두번째리스트</li>, <li class=\"blue\">세번째리스트</li>, <li>네번째리스트</li>]\n",
      "4\n"
     ]
    }
   ],
   "source": [
    "#div 후손인 li 태그\n",
    "import requests\n",
    "from bs4 import BeautifulSoup\n",
    "\n",
    "response = requests.get('https://crawlingstudy-dd3c9.web.app/02/')\n",
    "soup = BeautifulSoup(response.text, 'html.parser')\n",
    "\n",
    "li_list = soup.select('#content li')\n",
    "\n",
    "print(li_list)\n",
    "print(len(li_list))"
   ]
  },
  {
   "cell_type": "code",
   "execution_count": 43,
   "metadata": {},
   "outputs": [
    {
     "name": "stdout",
     "output_type": "stream",
     "text": [
      "['첫번쨰리스트', '두번째리스트', '세번째리스트', '네번째리스트']\n"
     ]
    }
   ],
   "source": [
    "data = [ ]\n",
    "\n",
    "for tag in li_list:\n",
    "    # print(tag.text)\n",
    "    data.append(tag.text)\n",
    "\n",
    "print(data)"
   ]
  },
  {
   "cell_type": "code",
   "execution_count": 49,
   "metadata": {},
   "outputs": [
    {
     "name": "stdout",
     "output_type": "stream",
     "text": [
      "[<p>온세상이 떨릴듯</p>, <p class=\"blue\">두근거리고 <span>익숙한 듯 편안해</span></p>, <p>네가 느껴져</p>, <p class=\"blue\">오래된 친구같아</p>]\n",
      "4\n"
     ]
    }
   ],
   "source": [
    "# id가 winter인 div태그의 후손 p태그 다 갖고 오기\n",
    "\n",
    "import requests\n",
    "from bs4 import BeautifulSoup\n",
    "\n",
    "response = requests.get('https://crawlingstudy-dd3c9.web.app/02/')\n",
    "soup = BeautifulSoup(response.text, 'html.parser')\n",
    "\n",
    "p_tag = soup.select('#winter p')\n",
    "print(p_tag)\n",
    "print(len(p_tag))"
   ]
  },
  {
   "cell_type": "code",
   "execution_count": 51,
   "metadata": {},
   "outputs": [
    {
     "name": "stdout",
     "output_type": "stream",
     "text": [
      "['온세상이 떨릴듯', '두근거리고 익숙한 듯 편안해', '네가 느껴져', '오래된 친구같아']\n"
     ]
    }
   ],
   "source": [
    "data = [ ]\n",
    "\n",
    "for tag in p_tag:\n",
    "    data.append(tag.text)\n",
    "\n",
    "print(data)"
   ]
  },
  {
   "cell_type": "code",
   "execution_count": 53,
   "metadata": {},
   "outputs": [
    {
     "ename": "NameError",
     "evalue": "name 'p_list' is not defined",
     "output_type": "error",
     "traceback": [
      "\u001b[0;31m---------------------------------------------------------------------------\u001b[0m",
      "\u001b[0;31mNameError\u001b[0m                                 Traceback (most recent call last)",
      "Cell \u001b[0;32mIn[53], line 3\u001b[0m\n\u001b[1;32m      1\u001b[0m data_dict \u001b[38;5;241m=\u001b[39m {}\n\u001b[0;32m----> 3\u001b[0m \u001b[38;5;28;01mfor\u001b[39;00m idx, tag \u001b[38;5;129;01min\u001b[39;00m \u001b[38;5;28menumerate\u001b[39m(\u001b[43mp_list\u001b[49m):\n\u001b[1;32m      4\u001b[0m     data_dict[idx] \u001b[38;5;241m=\u001b[39m tag\u001b[38;5;241m.\u001b[39mtext\n\u001b[1;32m      6\u001b[0m data_dict\n",
      "\u001b[0;31mNameError\u001b[0m: name 'p_list' is not defined"
     ]
    }
   ],
   "source": [
    "data_dict = {}\n",
    "\n",
    "for idx, tag in enumerate(p_list):\n",
    "    data_dict[idx] = tag.text\n",
    "    \n",
    "data_dict"
   ]
  },
  {
   "cell_type": "markdown",
   "metadata": {},
   "source": [
    "### 2.5 자식 셀렉터로 태그 갖고오기 "
   ]
  },
  {
   "cell_type": "code",
   "execution_count": 58,
   "metadata": {},
   "outputs": [
    {
     "name": "stdout",
     "output_type": "stream",
     "text": [
      "[<p>온세상이 떨릴듯</p>, <p class=\"blue\">두근거리고 <span>익숙한 듯 편안해</span></p>]\n",
      "2\n"
     ]
    }
   ],
   "source": [
    "# id가 winter인 div태그의 자식 p태그 전부 갖고오기\n",
    "import requests\n",
    "from bs4 import BeautifulSoup\n",
    "\n",
    "response = requests.get('https://crawlingstudy-dd3c9.web.app/02/')\n",
    "soup = BeautifulSoup(response.text, 'html.parser')\n",
    "\n",
    "p_list = soup.select('#winter >p')\n",
    "print(p_list)\n",
    "print(len(p_list))"
   ]
  },
  {
   "cell_type": "code",
   "execution_count": 59,
   "metadata": {},
   "outputs": [
    {
     "name": "stdout",
     "output_type": "stream",
     "text": [
      "[<p>네가 느껴져</p>, <p class=\"blue\">오래된 친구같아</p>]\n",
      "2\n"
     ]
    }
   ],
   "source": [
    "p_list = soup.select('#winter >div >p')\n",
    "print(p_list)\n",
    "print(len(p_list))"
   ]
  }
 ],
 "metadata": {
  "kernelspec": {
   "display_name": "sesac",
   "language": "python",
   "name": "python3"
  },
  "language_info": {
   "codemirror_mode": {
    "name": "ipython",
    "version": 3
   },
   "file_extension": ".py",
   "mimetype": "text/x-python",
   "name": "python",
   "nbconvert_exporter": "python",
   "pygments_lexer": "ipython3",
   "version": "3.10.15"
  }
 },
 "nbformat": 4,
 "nbformat_minor": 2
}
