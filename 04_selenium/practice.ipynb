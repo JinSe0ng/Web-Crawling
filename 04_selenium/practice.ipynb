{
 "cells": [
  {
   "cell_type": "code",
   "execution_count": 7,
   "metadata": {},
   "outputs": [
    {
     "name": "stdout",
     "output_type": "stream",
     "text": [
      "<selenium.webdriver.remote.webelement.WebElement (session=\"a9b76f82fed78f1ee249a655a9cb7640\", element=\"f.8C9294CC9AE660C93234B771D59093AD.d.C6358FE1A1625E2ABBE0BA7A6138930D.e.2\")>\n",
      "<selenium.webdriver.remote.webelement.WebElement (session=\"a9b76f82fed78f1ee249a655a9cb7640\", element=\"f.8C9294CC9AE660C93234B771D59093AD.d.C6358FE1A1625E2ABBE0BA7A6138930D.e.2\")>\n",
      "<class 'selenium.webdriver.remote.webelement.WebElement'>\n"
     ]
    }
   ],
   "source": [
    "from selenium import webdriver\n",
    "from selenium.webdriver.common.by import By\n",
    "import time\n",
    "\n",
    "driver = webdriver.Chrome()\n",
    "driver.implicitly_wait(1.5)\n",
    "\n",
    "driver.get('https://crawlingstudy-dd3c9.web.app/01/')\n",
    "\n",
    "p_tags = driver.find_element(By.CSS_SELECTOR, 'p')\n",
    "p_tag = driver.find_element(By.CSS_SELECTOR, 'p')\n",
    "print(p_tags)\n",
    "print(p_tag)\n",
    "print(type(p_tag))\n",
    "\n",
    "time.sleep(2)\n",
    "\n",
    "driver.quit()"
   ]
  },
  {
   "cell_type": "code",
   "execution_count": null,
   "metadata": {},
   "outputs": [],
   "source": [
    "driver = webdriver.Chrome()\n",
    "driver.implicitly_wait(1)\n",
    "\n",
    "driver.get('https://www.naver.com')\n",
    "\n",
    "a_tag = driver.find_element(By.CSS_SELECTOR, '#account .MyView-module__link_login___HpHMW')\n",
    "a_tag.click()\n",
    "\n",
    "time.sleep(2)\n",
    "\n",
    "driver.quit()"
   ]
  },
  {
   "cell_type": "code",
   "execution_count": 11,
   "metadata": {},
   "outputs": [
    {
     "name": "stdout",
     "output_type": "stream",
     "text": [
      "Collecting python-dotenv\n",
      "  Downloading python_dotenv-1.0.1-py3-none-any.whl.metadata (23 kB)\n",
      "Downloading python_dotenv-1.0.1-py3-none-any.whl (19 kB)\n",
      "Installing collected packages: python-dotenv\n",
      "Successfully installed python-dotenv-1.0.1\n"
     ]
    }
   ],
   "source": [
    "! pip install python-dotenv"
   ]
  },
  {
   "cell_type": "code",
   "execution_count": 1,
   "metadata": {},
   "outputs": [
    {
     "name": "stdout",
     "output_type": "stream",
     "text": [
      "test3\n",
      "test2\n"
     ]
    }
   ],
   "source": [
    "from dotenv import load_dotenv\n",
    "import os\n",
    "\n",
    "load_dotenv()\n",
    "\n",
    "naver_id = os.getenv('NAVER_ID')\n",
    "naver_pw = os.getenv('NAVER_PW')\n",
    "print(naver_id)\n",
    "print(naver_pw)"
   ]
  },
  {
   "cell_type": "code",
   "execution_count": null,
   "metadata": {},
   "outputs": [],
   "source": [
    "from selenium import webdriver\n",
    "from selenium.webdriver.common.by import By\n",
    "import time\n",
    "\n",
    "driver = webdriver.Chrome()\n",
    "driver.implicitly_wait(1)\n",
    "    \n",
    "driver.get('https://www.naver.com')\n",
    "\n",
    "a_tag = driver.find_element(By.CSS_SELECTOR, '#account .MyView-module__link_login___HpHMW').click()\n",
    "\n",
    "driver.find_element(By.CSS_SELECTOR, '#id').send_keys('naver_id')\n",
    "driver.find_element(By.CSS_SELECTOR, '#pw').send_keys('naver_pw')\n",
    "driver.find_element(By.CSS_SELECTOR, '.btn_login .btn_text').click()\n",
    "\n",
    "time.sleep(2)\n",
    "\n",
    "driver.quit()"
   ]
  },
  {
   "cell_type": "code",
   "execution_count": null,
   "metadata": {},
   "outputs": [],
   "source": []
  }
 ],
 "metadata": {
  "kernelspec": {
   "display_name": "sesac",
   "language": "python",
   "name": "python3"
  },
  "language_info": {
   "codemirror_mode": {
    "name": "ipython",
    "version": 3
   },
   "file_extension": ".py",
   "mimetype": "text/x-python",
   "name": "python",
   "nbconvert_exporter": "python",
   "pygments_lexer": "ipython3",
   "version": "3.10.15"
  }
 },
 "nbformat": 4,
 "nbformat_minor": 2
}
