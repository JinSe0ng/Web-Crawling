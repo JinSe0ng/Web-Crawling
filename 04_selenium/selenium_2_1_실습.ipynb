{
 "cells": [
  {
   "cell_type": "markdown",
   "metadata": {},
   "source": [
    "# 실습 1"
   ]
  },
  {
   "cell_type": "markdown",
   "metadata": {},
   "source": [
    "사이트내에 인기검색종목과 주요해외지수를 각각 크롤링하여 종목명과 주가지수를 아래와 같이 리스트로 정리해주세요\n",
    "- 종목명\n",
    "- 주가지수"
   ]
  },
  {
   "cell_type": "markdown",
   "metadata": {},
   "source": [
    "## 1.1 인기검색종목"
   ]
  },
  {
   "cell_type": "code",
   "execution_count": 15,
   "metadata": {},
   "outputs": [
    {
     "name": "stdout",
     "output_type": "stream",
     "text": [
      "[['써니전자', '5,000'], ['삼성전자', '55,200'], ['안랩', '81,000'], ['케이엠더블..', '57,300'], ['피피아이', '12,600'], ['KT&G', '92,500'], ['삼성전자우', '45,600'], ['대양금속', '10,550'], ['SK하이닉스', '94,700'], ['SK텔레콤', '234,000']]\n"
     ]
    }
   ],
   "source": [
    "from selenium import webdriver\n",
    "from selenium.webdriver.common.by import By\n",
    "\n",
    "driver = webdriver.Chrome()\n",
    "driver.implicitly_wait(2)\n",
    "\n",
    "driver.get('https://crawlingstudy-dd3c9.web.app/03/')\n",
    "\n",
    "popular_list = []\n",
    "\n",
    "li_tags = driver.find_elements(By.CSS_SELECTOR, '#popularItemList li')\n",
    "for li in li_tags:\n",
    "    name = li.find_element(By.CSS_SELECTOR, 'a').text\n",
    "    price = li.find_element(By.CSS_SELECTOR, 'span').text\n",
    "    popular_list.append([name,price])\n",
    "\n",
    "print(popular_list)\n",
    "driver.quit()"
   ]
  },
  {
   "cell_type": "code",
   "execution_count": 16,
   "metadata": {},
   "outputs": [
    {
     "data": {
      "text/plain": [
       "[['써니전자', '5,000'],\n",
       " ['삼성전자', '55,200'],\n",
       " ['안랩', '81,000'],\n",
       " ['케이엠더블..', '57,300'],\n",
       " ['피피아이', '12,600'],\n",
       " ['KT&G', '92,500'],\n",
       " ['삼성전자우', '45,600'],\n",
       " ['대양금속', '10,550'],\n",
       " ['SK하이닉스', '94,700'],\n",
       " ['SK텔레콤', '234,000']]"
      ]
     },
     "execution_count": 16,
     "metadata": {},
     "output_type": "execute_result"
    }
   ],
   "source": [
    "popular_list"
   ]
  },
  {
   "cell_type": "markdown",
   "metadata": {},
   "source": [
    "## 1.2 주요 해외 지수 \n",
    "혼자 해보기"
   ]
  },
  {
   "cell_type": "markdown",
   "metadata": {},
   "source": [
    "- 종목 명\n",
    "- 주가 지수"
   ]
  },
  {
   "cell_type": "code",
   "execution_count": null,
   "metadata": {},
   "outputs": [],
   "source": []
  },
  {
   "cell_type": "code",
   "execution_count": null,
   "metadata": {},
   "outputs": [],
   "source": []
  },
  {
   "cell_type": "markdown",
   "metadata": {},
   "source": [
    "# 실습 2\n",
    "\n",
    "아래 사이트를 크롤링하여 아래와 같이 각각 글에 id와 title 그리고 글마다 코멘트내용을 리스트형식으로 담고 최종 json 파일 형태로 저장해보세요.\n",
    "\n",
    "- id\n",
    "- title\n",
    "- comments : 리스트로 "
   ]
  },
  {
   "cell_type": "markdown",
   "metadata": {},
   "source": [
    "1. 각 타이틀의 text 뽑아보기 "
   ]
  },
  {
   "cell_type": "code",
   "execution_count": 23,
   "metadata": {},
   "outputs": [
    {
     "name": "stdout",
     "output_type": "stream",
     "text": [
      "5000\n",
      "accusamus beatae ad facilis cum similique qui sunt\n"
     ]
    }
   ],
   "source": [
    "from selenium import webdriver\n",
    "from selenium.webdriver.common.by import By\n",
    "import time\n",
    "\n",
    "driver = webdriver.Chrome()\n",
    "driver.implicitly_wait(2)\n",
    "\n",
    "driver.get('https://crawlingstudy-dd3c9.web.app/05/')\n",
    "\n",
    "div_tags = driver.find_elements(By.CSS_SELECTOR, '#post div[onclick]')\n",
    "print(len(div_tags))\n",
    "\n",
    "for tag in div_tags[:10]: \n",
    "    print(tag.text)\n",
    "    break\n",
    "\n",
    "\n",
    "driver.quit()"
   ]
  },
  {
   "cell_type": "markdown",
   "metadata": {},
   "source": [
    "2. title 클릭해서 body 뽑기 "
   ]
  },
  {
   "cell_type": "code",
   "execution_count": 37,
   "metadata": {},
   "outputs": [
    {
     "name": "stdout",
     "output_type": "stream",
     "text": [
      "5000\n",
      "laudantium enim quasi est quidem magnam voluptate ipsam eos tempora quo necessitatibus dolor quam autem quasi reiciendis et nam sapiente accusantium\n",
      "est natus enim nihil est dolore omnis voluptatem numquam et omnis occaecati quod ullam at voluptatem error expedita pariatur nihil sint nostrum voluptatem reiciendis et\n",
      "quia molestiae reprehenderit quasi aspernatur aut expedita occaecati aliquam eveniet laudantium omnis quibusdam delectus saepe quia accusamus maiores nam est cum et ducimus et vero voluptates excepturi deleniti ratione\n",
      "non et atque occaecati deserunt quas accusantium unde odit nobis qui voluptatem quia voluptas consequuntur itaque dolor et qui rerum deleniti ut occaecati\n",
      "harum non quasi et ratione tempore iure ex voluptates in ratione harum architecto fugit inventore cupiditate voluptates magni quo et\n",
      "doloribus at sed quis culpa deserunt consectetur qui praesentium accusamus fugiat dicta voluptatem rerum ut voluptate autem voluptatem repellendus aspernatur dolorem in\n",
      "maiores sed dolores similique labore et inventore et quasi temporibus esse sunt id et eos voluptatem aliquam aliquid ratione corporis molestiae mollitia quia et magnam dolor\n",
      "ut voluptatem corrupti velit ad voluptatem maiores et nisi velit vero accusamus maiores voluptates quia aliquid ullam eaque\n",
      "sapiente assumenda molestiae atque adipisci laborum distinctio aperiam et ab ut omnis et occaecati aspernatur odit sit rem expedita quas enim ipsam minus\n",
      "voluptate iusto quis nobis reprehenderit ipsum amet nulla quia quas dolores velit et non aut quia necessitatibus nostrum quaerat nulla et accusamus nisi facilis\n",
      "ut dolorum nostrum id quia aut est fuga est inventore vel eligendi explicabo quis consectetur aut occaecati repellat id natus quo est ut blanditiis quia ut vel ut maiores ea\n",
      "expedita maiores dignissimos facilis ipsum est rem est fugit velit sequi eum odio dolores dolor totam occaecati ratione eius rem velit\n",
      "fuga eos qui dolor rerum inventore corporis exercitationem corporis cupiditate et deserunt recusandae est sed quis culpa eum maiores corporis et\n",
      "vel quae voluptas qui exercitationem voluptatibus unde sed minima et qui ipsam aspernatur expedita magnam laudantium et et quaerat ut qui dolorum\n",
      "nihil ut voluptates blanditiis autem odio dicta rerum quisquam saepe et est sunt quasi nemo laudantium deserunt molestias tempora quo quia\n",
      "iste ut laborum aliquid velit facere itaque quo ut soluta dicta voluptate error tempore aut et sequi reiciendis dignissimos expedita consequuntur libero sed fugiat facilis\n",
      "consequatur necessitatibus totam sed sit dolorum recusandae quae odio excepturi voluptatum harum voluptas quisquam sit ad eveniet delectus doloribus odio qui non labore\n",
      "veritatis voluptates necessitatibus maiores corrupti neque et exercitationem amet sit et ullam velit sit magnam laborum magni ut molestias\n",
      "doloribus est illo sed minima aperiam ut dignissimos accusantium tempore atque et aut molestiae magni ut accusamus voluptatem quos ut voluptates quisquam porro sed architecto ut\n",
      "qui harum consequatur fugiat et eligendi perferendis at molestiae commodi ducimus doloremque asperiores numquam qui ut sit dignissimos reprehenderit tempore\n",
      "deleniti aut sed molestias explicabo commodi odio ratione nesciunt voluptate doloremque est nam autem error delectus\n",
      "qui ipsa animi nostrum praesentium voluptatibus odit qui non impedit cum qui nostrum aliquid fuga explicabo voluptatem fugit earum voluptas exercitationem temporibus dignissimos distinctio esse inventore reprehenderit quidem ut incidunt nihil necessitatibus rerum\n",
      "voluptates provident repellendus iusto perspiciatis ex fugiat ut ut dolor nam aliquid et expedita voluptate sunt vitae illo rerum in quos vel eligendi enim quae fugiat est\n",
      "repudiandae repellat quia sequi est dolore explicabo nihil et et sit et et praesentium iste atque asperiores tenetur\n",
      "sunt aut quae laboriosam sit ut impedit adipisci harum laborum totam deleniti voluptas odit rem ea non iure distinctio ut velit doloribus et non ex\n"
     ]
    }
   ],
   "source": [
    "from selenium import webdriver\n",
    "from selenium.webdriver.common.by import By\n",
    "import time\n",
    "\n",
    "driver = webdriver.Chrome()\n",
    "driver.implicitly_wait(2)\n",
    "\n",
    "driver.get('https://crawlingstudy-dd3c9.web.app/05/')\n",
    "\n",
    "div_tags = driver.find_elements(By.CSS_SELECTOR, '#post div[onclick]')\n",
    "print(len(div_tags))\n",
    "\n",
    "for idx, tag in enumerate(div_tags): \n",
    "    tag.click()\n",
    "\n",
    "    if idx ==5:\n",
    "        break\n",
    "\n",
    "    num = idx + 1\n",
    "    comments = driver.find_elements(By.CSS_SELECTOR, f'#\\\\3{num} > div')\n",
    "    for idx_1 in range(1, len(comments), 2):\n",
    "        print(comments[idx_1].text)\n",
    "    \n",
    "\n",
    "driver.quit()\n"
   ]
  },
  {
   "cell_type": "code",
   "execution_count": 38,
   "metadata": {},
   "outputs": [
    {
     "name": "stdout",
     "output_type": "stream",
     "text": [
      "1\n"
     ]
    }
   ],
   "source": [
    "print(len(result))"
   ]
  },
  {
   "cell_type": "markdown",
   "metadata": {},
   "source": [
    "<이스케이프 문자>\n",
    "- 역슬래시 \\\n",
    "- 일반 문자가 아닌 특별한 역할을 하도록 만들어진 문자 \n",
    "- ex) \\n, \\t, \\\\\\ (역슬래시 자체를 표현), \\\\\" (큰 따옴표를 문자열 안에서 표현)   \n"
   ]
  },
  {
   "cell_type": "code",
   "execution_count": null,
   "metadata": {},
   "outputs": [],
   "source": []
  },
  {
   "cell_type": "markdown",
   "metadata": {},
   "source": [
    "3. json파일로 저장하기 (최종)"
   ]
  },
  {
   "cell_type": "code",
   "execution_count": 34,
   "metadata": {},
   "outputs": [
    {
     "name": "stdout",
     "output_type": "stream",
     "text": [
      "5000\n"
     ]
    }
   ],
   "source": [
    "from selenium import webdriver\n",
    "from selenium.webdriver.common.by import By\n",
    "import time\n",
    "\n",
    "driver = webdriver.Chrome()\n",
    "driver.implicitly_wait(2)\n",
    "\n",
    "driver.get('https://crawlingstudy-dd3c9.web.app/05/')\n",
    "\n",
    "div_tags = driver.find_elements(By.CSS_SELECTOR, '#post div[onclick]')\n",
    "print(len(div_tags))\n",
    "\n",
    "result = []\n",
    "\n",
    "for idx, tag in enumerate(div_tags): \n",
    "    tag.click()\n",
    "\n",
    "    num = idx + 1\n",
    "    comments = driver.find_elements(By.CSS_SELECTOR, f'#\\\\3{num} > div')\n",
    "    \n",
    "    data = dict(\n",
    "        id = num,\n",
    "        title = tag.text\n",
    "    )\n",
    "    \n",
    "    data['comments'] = [comments[i].text for i in range(1, len(comments), 2)]\n",
    "\n",
    "    #for idx_1 in range(1, len(comments), 2):\n",
    "    #    data['comments'] = comments[idx_1]\n",
    "    \n",
    "    result.append(data)\n",
    "    break\n",
    "\n",
    "driver.quit()"
   ]
  },
  {
   "cell_type": "code",
   "execution_count": null,
   "metadata": {},
   "outputs": [],
   "source": []
  }
 ],
 "metadata": {
  "kernelspec": {
   "display_name": "sesac",
   "language": "python",
   "name": "python3"
  },
  "language_info": {
   "codemirror_mode": {
    "name": "ipython",
    "version": 3
   },
   "file_extension": ".py",
   "mimetype": "text/x-python",
   "name": "python",
   "nbconvert_exporter": "python",
   "pygments_lexer": "ipython3",
   "version": "3.10.15"
  }
 },
 "nbformat": 4,
 "nbformat_minor": 2
}
